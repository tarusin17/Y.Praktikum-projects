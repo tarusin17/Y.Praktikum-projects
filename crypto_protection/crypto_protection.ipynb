{
  "nbformat": 4,
  "nbformat_minor": 0,
  "metadata": {
    "kernelspec": {
      "display_name": "Python 3",
      "language": "python",
      "name": "python3"
    },
    "language_info": {
      "codemirror_mode": {
        "name": "ipython",
        "version": 3
      },
      "file_extension": ".py",
      "mimetype": "text/x-python",
      "name": "python",
      "nbconvert_exporter": "python",
      "pygments_lexer": "ipython3",
      "version": "3.7.4"
    },
    "colab": {
      "name": "crypto_prot.ipynb",
      "provenance": []
    }
  },
  "cells": [
    {
      "cell_type": "markdown",
      "metadata": {
        "id": "bbU007hEGJws"
      },
      "source": [
        "Вам нужно защитить данные клиентов страховой компании «Хоть потоп». Разработайте такой метод преобразования данных, чтобы по ним было сложно восстановить персональную информацию. Обоснуйте корректность его работы.\n",
        "\n",
        "Нужно защитить данные, чтобы при преобразовании качество моделей машинного обучения не ухудшилось. Подбирать наилучшую модель не требуется."
      ]
    },
    {
      "cell_type": "markdown",
      "metadata": {
        "id": "hMQuTEglGJws"
      },
      "source": [
        "## 1. Загрузка данных"
      ]
    },
    {
      "cell_type": "code",
      "metadata": {
        "id": "Zb9knlHUGJws"
      },
      "source": [
        "import pandas as pd\n",
        "import numpy as np\n",
        "from sklearn.linear_model import LinearRegression\n",
        "from sklearn.model_selection import cross_val_score"
      ],
      "execution_count": null,
      "outputs": []
    },
    {
      "cell_type": "code",
      "metadata": {
        "id": "yH3bsQclGJws",
        "outputId": "adb12047-d4c1-46c2-dbb8-49b209487acc"
      },
      "source": [
        "df = pd.read_csv('/datasets/insurance.csv')\n",
        "df.head()"
      ],
      "execution_count": null,
      "outputs": [
        {
          "output_type": "execute_result",
          "data": {
            "text/html": [
              "<div>\n",
              "<style scoped>\n",
              "    .dataframe tbody tr th:only-of-type {\n",
              "        vertical-align: middle;\n",
              "    }\n",
              "\n",
              "    .dataframe tbody tr th {\n",
              "        vertical-align: top;\n",
              "    }\n",
              "\n",
              "    .dataframe thead th {\n",
              "        text-align: right;\n",
              "    }\n",
              "</style>\n",
              "<table border=\"1\" class=\"dataframe\">\n",
              "  <thead>\n",
              "    <tr style=\"text-align: right;\">\n",
              "      <th></th>\n",
              "      <th>Пол</th>\n",
              "      <th>Возраст</th>\n",
              "      <th>Зарплата</th>\n",
              "      <th>Члены семьи</th>\n",
              "      <th>Страховые выплаты</th>\n",
              "    </tr>\n",
              "  </thead>\n",
              "  <tbody>\n",
              "    <tr>\n",
              "      <td>0</td>\n",
              "      <td>1</td>\n",
              "      <td>41.0</td>\n",
              "      <td>49600.0</td>\n",
              "      <td>1</td>\n",
              "      <td>0</td>\n",
              "    </tr>\n",
              "    <tr>\n",
              "      <td>1</td>\n",
              "      <td>0</td>\n",
              "      <td>46.0</td>\n",
              "      <td>38000.0</td>\n",
              "      <td>1</td>\n",
              "      <td>1</td>\n",
              "    </tr>\n",
              "    <tr>\n",
              "      <td>2</td>\n",
              "      <td>0</td>\n",
              "      <td>29.0</td>\n",
              "      <td>21000.0</td>\n",
              "      <td>0</td>\n",
              "      <td>0</td>\n",
              "    </tr>\n",
              "    <tr>\n",
              "      <td>3</td>\n",
              "      <td>0</td>\n",
              "      <td>21.0</td>\n",
              "      <td>41700.0</td>\n",
              "      <td>2</td>\n",
              "      <td>0</td>\n",
              "    </tr>\n",
              "    <tr>\n",
              "      <td>4</td>\n",
              "      <td>1</td>\n",
              "      <td>28.0</td>\n",
              "      <td>26100.0</td>\n",
              "      <td>0</td>\n",
              "      <td>0</td>\n",
              "    </tr>\n",
              "  </tbody>\n",
              "</table>\n",
              "</div>"
            ],
            "text/plain": [
              "   Пол  Возраст  Зарплата  Члены семьи  Страховые выплаты\n",
              "0    1     41.0   49600.0            1                  0\n",
              "1    0     46.0   38000.0            1                  1\n",
              "2    0     29.0   21000.0            0                  0\n",
              "3    0     21.0   41700.0            2                  0\n",
              "4    1     28.0   26100.0            0                  0"
            ]
          },
          "metadata": {
            "tags": []
          },
          "execution_count": 2
        }
      ]
    },
    {
      "cell_type": "code",
      "metadata": {
        "id": "Y4uLji4zGJwt",
        "outputId": "86d5cb4b-4ca0-48e1-bf7c-184f04e09888"
      },
      "source": [
        "df.tail()"
      ],
      "execution_count": null,
      "outputs": [
        {
          "output_type": "execute_result",
          "data": {
            "text/html": [
              "<div>\n",
              "<style scoped>\n",
              "    .dataframe tbody tr th:only-of-type {\n",
              "        vertical-align: middle;\n",
              "    }\n",
              "\n",
              "    .dataframe tbody tr th {\n",
              "        vertical-align: top;\n",
              "    }\n",
              "\n",
              "    .dataframe thead th {\n",
              "        text-align: right;\n",
              "    }\n",
              "</style>\n",
              "<table border=\"1\" class=\"dataframe\">\n",
              "  <thead>\n",
              "    <tr style=\"text-align: right;\">\n",
              "      <th></th>\n",
              "      <th>Пол</th>\n",
              "      <th>Возраст</th>\n",
              "      <th>Зарплата</th>\n",
              "      <th>Члены семьи</th>\n",
              "      <th>Страховые выплаты</th>\n",
              "    </tr>\n",
              "  </thead>\n",
              "  <tbody>\n",
              "    <tr>\n",
              "      <td>4995</td>\n",
              "      <td>0</td>\n",
              "      <td>28.0</td>\n",
              "      <td>35700.0</td>\n",
              "      <td>2</td>\n",
              "      <td>0</td>\n",
              "    </tr>\n",
              "    <tr>\n",
              "      <td>4996</td>\n",
              "      <td>0</td>\n",
              "      <td>34.0</td>\n",
              "      <td>52400.0</td>\n",
              "      <td>1</td>\n",
              "      <td>0</td>\n",
              "    </tr>\n",
              "    <tr>\n",
              "      <td>4997</td>\n",
              "      <td>0</td>\n",
              "      <td>20.0</td>\n",
              "      <td>33900.0</td>\n",
              "      <td>2</td>\n",
              "      <td>0</td>\n",
              "    </tr>\n",
              "    <tr>\n",
              "      <td>4998</td>\n",
              "      <td>1</td>\n",
              "      <td>22.0</td>\n",
              "      <td>32700.0</td>\n",
              "      <td>3</td>\n",
              "      <td>0</td>\n",
              "    </tr>\n",
              "    <tr>\n",
              "      <td>4999</td>\n",
              "      <td>1</td>\n",
              "      <td>28.0</td>\n",
              "      <td>40600.0</td>\n",
              "      <td>1</td>\n",
              "      <td>0</td>\n",
              "    </tr>\n",
              "  </tbody>\n",
              "</table>\n",
              "</div>"
            ],
            "text/plain": [
              "      Пол  Возраст  Зарплата  Члены семьи  Страховые выплаты\n",
              "4995    0     28.0   35700.0            2                  0\n",
              "4996    0     34.0   52400.0            1                  0\n",
              "4997    0     20.0   33900.0            2                  0\n",
              "4998    1     22.0   32700.0            3                  0\n",
              "4999    1     28.0   40600.0            1                  0"
            ]
          },
          "metadata": {
            "tags": []
          },
          "execution_count": 3
        }
      ]
    },
    {
      "cell_type": "code",
      "metadata": {
        "id": "1vdvg-suGJwt"
      },
      "source": [
        "df= df.astype('int')"
      ],
      "execution_count": null,
      "outputs": []
    },
    {
      "cell_type": "code",
      "metadata": {
        "id": "nBAkvCr2GJwt",
        "outputId": "806adfa4-d8f9-46f6-c76d-86aa85826397"
      },
      "source": [
        "df.shape"
      ],
      "execution_count": null,
      "outputs": [
        {
          "output_type": "execute_result",
          "data": {
            "text/plain": [
              "(5000, 5)"
            ]
          },
          "metadata": {
            "tags": []
          },
          "execution_count": 5
        }
      ]
    },
    {
      "cell_type": "markdown",
      "metadata": {
        "id": "yN7c3m2xGJwt"
      },
      "source": [
        "## 2. Ответ на вопрос.\n",
        "\n",
        "Признаки умножают на обратимую матрицу. Изменится ли качество линейной регрессии?"
      ]
    },
    {
      "cell_type": "markdown",
      "metadata": {
        "id": "7Y8XUsiZGJwt"
      },
      "source": [
        "В этом задании вы можете записывать формулы в *Jupyter Notebook.*\n",
        "\n",
        "Чтобы записать формулу внутри текста, окружите её символами доллара \\\\$; если снаружи —  двойными символами \\\\$\\\\$. Эти формулы записываются на языке вёрстки *LaTeX.* \n",
        "\n",
        "Для примера мы записали формулы линейной регрессии. Можете их скопировать и отредактировать, чтобы решить задачу.\n",
        "\n",
        "Работать в *LaTeX* необязательно."
      ]
    },
    {
      "cell_type": "markdown",
      "metadata": {
        "id": "RZfhyCwLGJwt"
      },
      "source": [
        "Обозначения:\n",
        "\n",
        "- $X$ — матрица признаков (нулевой столбец состоит из единиц)\n",
        "\n",
        "- $y$ — вектор целевого признака\n",
        "\n",
        "- $P$ — матрица, на которую умножаются признаки\n",
        "\n",
        "- $w$ — вектор весов линейной регрессии (нулевой элемент равен сдвигу)"
      ]
    },
    {
      "cell_type": "markdown",
      "metadata": {
        "id": "tGIWdCqIGJwt"
      },
      "source": [
        "Предсказания:\n",
        "\n",
        "$$\n",
        "a = Xw\n",
        "$$\n",
        "\n",
        "Задача обучения:\n",
        "\n",
        "$$\n",
        "w = \\arg\\min_w MSE(Xw, y)\n",
        "$$\n",
        "\n",
        "Формула обучения:\n",
        "\n",
        "$$\n",
        "w = (X^T X)^{-1} X^T y\n",
        "$$"
      ]
    },
    {
      "cell_type": "markdown",
      "metadata": {
        "id": "WQDBnUIxGJwt"
      },
      "source": [
        "## 3. Алгоритм преобразования"
      ]
    },
    {
      "cell_type": "markdown",
      "metadata": {
        "id": "z3HPkE5iGJwt"
      },
      "source": [
        "**Алгоритм**\n",
        "\n",
        "Для шифрования данных матрицицу признаков $X$ мы умножам на матрицу со случайными значениями с нормальным распределением $P$. После этой операции мы получаем матрицу $Z$ с измененными значениями. \n",
        "\n",
        "***Условие работы алгоритма:*** матрица $P$ должна быть обратимой, т.е. $P P^{-1} = E$\n",
        "\n",
        "**_Формула шифрования:_** $$ X P=Z$$\n",
        "\n",
        "\n",
        "Для дешифровки данных необходимо измененную матриц $Z$ умножить на обратную случайной матрице $P$ матрицу $P^{-1}$\n",
        "\n",
        "**_Формула дешифровки:_**\n",
        "$$Z P^{-1}=X$$"
      ]
    },
    {
      "cell_type": "markdown",
      "metadata": {
        "id": "cY5dMOndGJwt"
      },
      "source": [
        "**Обоснование**\n",
        "\n",
        "Как видно из пункта 2 предсказание не изменится, так как $a = X w = X P w' = E y$ следовательно, предсказание $a$ не зависит от значенияй в матрице $X$"
      ]
    },
    {
      "cell_type": "markdown",
      "metadata": {
        "id": "I-buMZY_GJwt"
      },
      "source": [
        "## 4. Проверка алгоритма"
      ]
    },
    {
      "cell_type": "markdown",
      "metadata": {
        "id": "sMVHKCnAGJwt"
      },
      "source": [
        "Проверим значение $R2$ до преобразования."
      ]
    },
    {
      "cell_type": "code",
      "metadata": {
        "id": "5XD5kcs_GJwt",
        "outputId": "5419d6e7-689b-4b78-87e5-89a5d1e0b9c4"
      },
      "source": [
        "features = df.drop('Страховые выплаты', axis=1).values\n",
        "target = df['Страховые выплаты'].values\n",
        "\n",
        "model = LinearRegression()\n",
        "r2 = cross_val_score(model, features, target, cv=5).mean()\n",
        "print('R2 =', r2)"
      ],
      "execution_count": null,
      "outputs": [
        {
          "output_type": "stream",
          "text": [
            "R2 = 0.4231137692077528\n"
          ],
          "name": "stdout"
        }
      ]
    },
    {
      "cell_type": "markdown",
      "metadata": {
        "id": "Q9w8Aoq_GJwt"
      },
      "source": [
        "Проверим значение $R2$ после преобразования."
      ]
    },
    {
      "cell_type": "code",
      "metadata": {
        "id": "NiUHnSYhGJwt",
        "outputId": "9e445bc4-60ee-4d15-de95-b334950ea2ce"
      },
      "source": [
        "# Создадим матрицу со случайными значениями по нормальному распределению.\n",
        "A = np.random.randn(features.shape[1], features.shape[1])\n",
        "print('Матрица со случайными значениями')\n",
        "print(A)\n",
        "print()\n",
        "\n",
        "#Проверим матрицу на обратимость\n",
        "A_inv = np.linalg.inv(A)\n",
        "print('Обратная матрица')\n",
        "print(A_inv)\n",
        "\n",
        "print()\n",
        "print('Проверка матрицы на обратимость')\n",
        "print(A @ A_inv)"
      ],
      "execution_count": null,
      "outputs": [
        {
          "output_type": "stream",
          "text": [
            "Матрица со случайными значениями\n",
            "[[-1.8804297  -0.44653018  0.32859715  0.99510161]\n",
            " [ 0.26646812 -1.18935696 -0.01485983 -0.60196705]\n",
            " [ 0.82192     1.1251349   0.87921424 -0.42670491]\n",
            " [-1.00327629  0.31298776  1.65635722  1.1002961 ]]\n",
            "\n",
            "Обратная матрица\n",
            "[[-1.40758525 -0.18390024 -0.97407581  0.79464567]\n",
            " [ 0.43151666 -0.51559853  0.63367868 -0.42659648]\n",
            " [ 0.04690423  0.47470896  0.41518418  0.37830345]\n",
            " [-1.47682655 -0.7356332  -1.69344794  1.18528366]]\n",
            "\n",
            "Проверка матрицы на обратимость\n",
            "[[ 1.00000000e+00 -2.17659585e-17  1.91100050e-16 -2.21164037e-16]\n",
            " [ 3.30363602e-17  1.00000000e+00 -1.08502580e-16 -1.37840854e-17]\n",
            " [-1.36745650e-17 -3.07058794e-17  1.00000000e+00 -1.30720998e-16]\n",
            " [ 8.22324975e-17 -1.93763731e-16 -7.53963300e-17  1.00000000e+00]]\n"
          ],
          "name": "stdout"
        }
      ]
    },
    {
      "cell_type": "code",
      "metadata": {
        "id": "4COp0uYaGJwu",
        "outputId": "d46ce417-3d9d-4857-9b33-43c2e22813f7"
      },
      "source": [
        "features_A = df.drop('Страховые выплаты', axis=1).values @ A\n",
        "target = df['Страховые выплаты'].values\n",
        "\n",
        "model_1 = LinearRegression()\n",
        "r2_new = cross_val_score(model_1, features_A, target, cv=5).mean()\n",
        "print('R2 =', r2_new)"
      ],
      "execution_count": null,
      "outputs": [
        {
          "output_type": "stream",
          "text": [
            "R2 = 0.42311376920772564\n"
          ],
          "name": "stdout"
        }
      ]
    },
    {
      "cell_type": "markdown",
      "metadata": {
        "id": "C96TRB_8GJwu"
      },
      "source": [
        "**Вывод**\n",
        "\n",
        "Значения $R2$ до преобразования и после одинаковы. Исходя из этого можем сделать вывод, что наш алгоритм шифровки работает и не влияет на качество модели."
      ]
    }
  ]
}