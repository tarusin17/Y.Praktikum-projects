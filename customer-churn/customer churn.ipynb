{
 "cells": [
  {
   "cell_type": "markdown",
   "metadata": {},
   "source": [
    "# Отток клиентов"
   ]
  },
  {
   "cell_type": "markdown",
   "metadata": {},
   "source": [
    "Из «Бета-Банка» стали уходить клиенты. Каждый месяц. Немного, но заметно. Банковские маркетологи посчитали: сохранять текущих клиентов дешевле, чем привлекать новых.\n",
    "\n",
    "Нужно спрогнозировать, уйдёт клиент из банка в ближайшее время или нет. Вам предоставлены исторические данные о поведении клиентов и расторжении договоров с банком. \n",
    "\n",
    "Постройте модель с предельно большим значением *F1*-меры. Чтобы сдать проект успешно, нужно довести метрику до 0.59. Проверьте *F1*-меру на тестовой выборке самостоятельно.\n",
    "\n",
    "Дополнительно измеряйте *AUC-ROC*, сравнивайте её значение с *F1*-мерой.\n",
    "\n",
    "Источник данных: [https://www.kaggle.com/barelydedicated/bank-customer-churn-modeling](https://www.kaggle.com/barelydedicated/bank-customer-churn-modeling)"
   ]
  },
  {
   "cell_type": "markdown",
   "metadata": {},
   "source": [
    "# 1. Подготовка данных"
   ]
  },
  {
   "cell_type": "code",
   "execution_count": 2,
   "metadata": {},
   "outputs": [],
   "source": [
    "import pandas as pd\n",
    "import matplotlib.pyplot as plt\n",
    "from sklearn.preprocessing import OrdinalEncoder\n",
    "from sklearn.model_selection import train_test_split\n",
    "from sklearn.ensemble import RandomForestClassifier\n",
    "from sklearn.metrics import f1_score\n",
    "from sklearn.metrics import roc_auc_score\n",
    "from sklearn.metrics import confusion_matrix\n",
    "from sklearn.metrics import recall_score\n",
    "from sklearn.metrics import precision_score\n",
    "from sklearn.metrics import precision_recall_curve\n",
    "from sklearn.metrics import roc_curve\n",
    "from sklearn.metrics import accuracy_score\n",
    "from sklearn.utils import shuffle\n",
    "from sklearn.preprocessing import StandardScaler\n",
    "\n",
    "import warnings\n",
    "warnings.filterwarnings(\"ignore\")"
   ]
  },
  {
   "cell_type": "code",
   "execution_count": 3,
   "metadata": {},
   "outputs": [],
   "source": [
    "data = pd.read_csv('/datasets/Churn.csv')"
   ]
  },
  {
   "cell_type": "code",
   "execution_count": 4,
   "metadata": {},
   "outputs": [
    {
     "name": "stdout",
     "output_type": "stream",
     "text": [
      "<class 'pandas.core.frame.DataFrame'>\n",
      "RangeIndex: 10000 entries, 0 to 9999\n",
      "Data columns (total 14 columns):\n",
      "RowNumber          10000 non-null int64\n",
      "CustomerId         10000 non-null int64\n",
      "Surname            10000 non-null object\n",
      "CreditScore        10000 non-null int64\n",
      "Geography          10000 non-null object\n",
      "Gender             10000 non-null object\n",
      "Age                10000 non-null int64\n",
      "Tenure             9091 non-null float64\n",
      "Balance            10000 non-null float64\n",
      "NumOfProducts      10000 non-null int64\n",
      "HasCrCard          10000 non-null int64\n",
      "IsActiveMember     10000 non-null int64\n",
      "EstimatedSalary    10000 non-null float64\n",
      "Exited             10000 non-null int64\n",
      "dtypes: float64(3), int64(8), object(3)\n",
      "memory usage: 1.1+ MB\n"
     ]
    },
    {
     "data": {
      "text/html": [
       "<div>\n",
       "<style scoped>\n",
       "    .dataframe tbody tr th:only-of-type {\n",
       "        vertical-align: middle;\n",
       "    }\n",
       "\n",
       "    .dataframe tbody tr th {\n",
       "        vertical-align: top;\n",
       "    }\n",
       "\n",
       "    .dataframe thead th {\n",
       "        text-align: right;\n",
       "    }\n",
       "</style>\n",
       "<table border=\"1\" class=\"dataframe\">\n",
       "  <thead>\n",
       "    <tr style=\"text-align: right;\">\n",
       "      <th></th>\n",
       "      <th>RowNumber</th>\n",
       "      <th>CustomerId</th>\n",
       "      <th>Surname</th>\n",
       "      <th>CreditScore</th>\n",
       "      <th>Geography</th>\n",
       "      <th>Gender</th>\n",
       "      <th>Age</th>\n",
       "      <th>Tenure</th>\n",
       "      <th>Balance</th>\n",
       "      <th>NumOfProducts</th>\n",
       "      <th>HasCrCard</th>\n",
       "      <th>IsActiveMember</th>\n",
       "      <th>EstimatedSalary</th>\n",
       "      <th>Exited</th>\n",
       "    </tr>\n",
       "  </thead>\n",
       "  <tbody>\n",
       "    <tr>\n",
       "      <td>0</td>\n",
       "      <td>1</td>\n",
       "      <td>15634602</td>\n",
       "      <td>Hargrave</td>\n",
       "      <td>619</td>\n",
       "      <td>France</td>\n",
       "      <td>Female</td>\n",
       "      <td>42</td>\n",
       "      <td>2.0</td>\n",
       "      <td>0.00</td>\n",
       "      <td>1</td>\n",
       "      <td>1</td>\n",
       "      <td>1</td>\n",
       "      <td>101348.88</td>\n",
       "      <td>1</td>\n",
       "    </tr>\n",
       "    <tr>\n",
       "      <td>1</td>\n",
       "      <td>2</td>\n",
       "      <td>15647311</td>\n",
       "      <td>Hill</td>\n",
       "      <td>608</td>\n",
       "      <td>Spain</td>\n",
       "      <td>Female</td>\n",
       "      <td>41</td>\n",
       "      <td>1.0</td>\n",
       "      <td>83807.86</td>\n",
       "      <td>1</td>\n",
       "      <td>0</td>\n",
       "      <td>1</td>\n",
       "      <td>112542.58</td>\n",
       "      <td>0</td>\n",
       "    </tr>\n",
       "    <tr>\n",
       "      <td>2</td>\n",
       "      <td>3</td>\n",
       "      <td>15619304</td>\n",
       "      <td>Onio</td>\n",
       "      <td>502</td>\n",
       "      <td>France</td>\n",
       "      <td>Female</td>\n",
       "      <td>42</td>\n",
       "      <td>8.0</td>\n",
       "      <td>159660.80</td>\n",
       "      <td>3</td>\n",
       "      <td>1</td>\n",
       "      <td>0</td>\n",
       "      <td>113931.57</td>\n",
       "      <td>1</td>\n",
       "    </tr>\n",
       "    <tr>\n",
       "      <td>3</td>\n",
       "      <td>4</td>\n",
       "      <td>15701354</td>\n",
       "      <td>Boni</td>\n",
       "      <td>699</td>\n",
       "      <td>France</td>\n",
       "      <td>Female</td>\n",
       "      <td>39</td>\n",
       "      <td>1.0</td>\n",
       "      <td>0.00</td>\n",
       "      <td>2</td>\n",
       "      <td>0</td>\n",
       "      <td>0</td>\n",
       "      <td>93826.63</td>\n",
       "      <td>0</td>\n",
       "    </tr>\n",
       "    <tr>\n",
       "      <td>4</td>\n",
       "      <td>5</td>\n",
       "      <td>15737888</td>\n",
       "      <td>Mitchell</td>\n",
       "      <td>850</td>\n",
       "      <td>Spain</td>\n",
       "      <td>Female</td>\n",
       "      <td>43</td>\n",
       "      <td>2.0</td>\n",
       "      <td>125510.82</td>\n",
       "      <td>1</td>\n",
       "      <td>1</td>\n",
       "      <td>1</td>\n",
       "      <td>79084.10</td>\n",
       "      <td>0</td>\n",
       "    </tr>\n",
       "    <tr>\n",
       "      <td>5</td>\n",
       "      <td>6</td>\n",
       "      <td>15574012</td>\n",
       "      <td>Chu</td>\n",
       "      <td>645</td>\n",
       "      <td>Spain</td>\n",
       "      <td>Male</td>\n",
       "      <td>44</td>\n",
       "      <td>8.0</td>\n",
       "      <td>113755.78</td>\n",
       "      <td>2</td>\n",
       "      <td>1</td>\n",
       "      <td>0</td>\n",
       "      <td>149756.71</td>\n",
       "      <td>1</td>\n",
       "    </tr>\n",
       "    <tr>\n",
       "      <td>6</td>\n",
       "      <td>7</td>\n",
       "      <td>15592531</td>\n",
       "      <td>Bartlett</td>\n",
       "      <td>822</td>\n",
       "      <td>France</td>\n",
       "      <td>Male</td>\n",
       "      <td>50</td>\n",
       "      <td>7.0</td>\n",
       "      <td>0.00</td>\n",
       "      <td>2</td>\n",
       "      <td>1</td>\n",
       "      <td>1</td>\n",
       "      <td>10062.80</td>\n",
       "      <td>0</td>\n",
       "    </tr>\n",
       "    <tr>\n",
       "      <td>7</td>\n",
       "      <td>8</td>\n",
       "      <td>15656148</td>\n",
       "      <td>Obinna</td>\n",
       "      <td>376</td>\n",
       "      <td>Germany</td>\n",
       "      <td>Female</td>\n",
       "      <td>29</td>\n",
       "      <td>4.0</td>\n",
       "      <td>115046.74</td>\n",
       "      <td>4</td>\n",
       "      <td>1</td>\n",
       "      <td>0</td>\n",
       "      <td>119346.88</td>\n",
       "      <td>1</td>\n",
       "    </tr>\n",
       "    <tr>\n",
       "      <td>8</td>\n",
       "      <td>9</td>\n",
       "      <td>15792365</td>\n",
       "      <td>He</td>\n",
       "      <td>501</td>\n",
       "      <td>France</td>\n",
       "      <td>Male</td>\n",
       "      <td>44</td>\n",
       "      <td>4.0</td>\n",
       "      <td>142051.07</td>\n",
       "      <td>2</td>\n",
       "      <td>0</td>\n",
       "      <td>1</td>\n",
       "      <td>74940.50</td>\n",
       "      <td>0</td>\n",
       "    </tr>\n",
       "    <tr>\n",
       "      <td>9</td>\n",
       "      <td>10</td>\n",
       "      <td>15592389</td>\n",
       "      <td>H?</td>\n",
       "      <td>684</td>\n",
       "      <td>France</td>\n",
       "      <td>Male</td>\n",
       "      <td>27</td>\n",
       "      <td>2.0</td>\n",
       "      <td>134603.88</td>\n",
       "      <td>1</td>\n",
       "      <td>1</td>\n",
       "      <td>1</td>\n",
       "      <td>71725.73</td>\n",
       "      <td>0</td>\n",
       "    </tr>\n",
       "  </tbody>\n",
       "</table>\n",
       "</div>"
      ],
      "text/plain": [
       "   RowNumber  CustomerId   Surname  CreditScore Geography  Gender  Age  \\\n",
       "0          1    15634602  Hargrave          619    France  Female   42   \n",
       "1          2    15647311      Hill          608     Spain  Female   41   \n",
       "2          3    15619304      Onio          502    France  Female   42   \n",
       "3          4    15701354      Boni          699    France  Female   39   \n",
       "4          5    15737888  Mitchell          850     Spain  Female   43   \n",
       "5          6    15574012       Chu          645     Spain    Male   44   \n",
       "6          7    15592531  Bartlett          822    France    Male   50   \n",
       "7          8    15656148    Obinna          376   Germany  Female   29   \n",
       "8          9    15792365        He          501    France    Male   44   \n",
       "9         10    15592389        H?          684    France    Male   27   \n",
       "\n",
       "   Tenure    Balance  NumOfProducts  HasCrCard  IsActiveMember  \\\n",
       "0     2.0       0.00              1          1               1   \n",
       "1     1.0   83807.86              1          0               1   \n",
       "2     8.0  159660.80              3          1               0   \n",
       "3     1.0       0.00              2          0               0   \n",
       "4     2.0  125510.82              1          1               1   \n",
       "5     8.0  113755.78              2          1               0   \n",
       "6     7.0       0.00              2          1               1   \n",
       "7     4.0  115046.74              4          1               0   \n",
       "8     4.0  142051.07              2          0               1   \n",
       "9     2.0  134603.88              1          1               1   \n",
       "\n",
       "   EstimatedSalary  Exited  \n",
       "0        101348.88       1  \n",
       "1        112542.58       0  \n",
       "2        113931.57       1  \n",
       "3         93826.63       0  \n",
       "4         79084.10       0  \n",
       "5        149756.71       1  \n",
       "6         10062.80       0  \n",
       "7        119346.88       1  \n",
       "8         74940.50       0  \n",
       "9         71725.73       0  "
      ]
     },
     "execution_count": 4,
     "metadata": {},
     "output_type": "execute_result"
    }
   ],
   "source": [
    "data.info()\n",
    "data.head(10)"
   ]
  },
  {
   "cell_type": "markdown",
   "metadata": {},
   "source": [
    "В информации мы вдим, что в таблице есть пропущенные значени. Они находятся в столбце, обозначающем количество недвижимости у клиента. Скорее всего пропуски означают отсутсвие у клиента недвижимости. \n",
    "Заполним пропуски нулями и приедем к целому значению.\n"
   ]
  },
  {
   "cell_type": "code",
   "execution_count": 5,
   "metadata": {},
   "outputs": [],
   "source": [
    "data = data.fillna(0)\n",
    "data['Tenure'] = data['Tenure'].astype('int')"
   ]
  },
  {
   "cell_type": "markdown",
   "metadata": {},
   "source": [
    "#### Подготовка данных"
   ]
  },
  {
   "cell_type": "markdown",
   "metadata": {},
   "source": [
    "Вручную заменим значения в столбце \"gender\" на 0 и 1.\n",
    "\n",
    "\n",
    "Методом ОНЕ добавим в таблицу новые дамми-признаки. При этом избавимся от столбца с \"surname\", \"customerid\" и \"rownumber\", так как они не влияют на \n",
    "финальное решение. "
   ]
  },
  {
   "cell_type": "code",
   "execution_count": 6,
   "metadata": {},
   "outputs": [],
   "source": [
    "data = data.replace('Male', 0)\n",
    "data = data.replace('Female', 1)\n",
    "data = pd.get_dummies(data.drop(['Surname', 'RowNumber', 'CustomerId'], axis=1), drop_first=True)"
   ]
  },
  {
   "cell_type": "markdown",
   "metadata": {},
   "source": [
    "#### Выделим цели и признаки."
   ]
  },
  {
   "cell_type": "code",
   "execution_count": 7,
   "metadata": {},
   "outputs": [],
   "source": [
    "features = data.drop('Exited', axis=True)\n",
    "target = data['Exited']\n",
    "\n",
    "features_train, new_features, target_train, new_target = train_test_split(features, target, test_size=0.4, random_state=42)\n",
    "\n",
    "features_valid, features_test, target_valid, target_test = (train_test_split(new_features, \n",
    "                                                                            new_target, \n",
    "                                                                            test_size=0.5, \n",
    "                                                                            random_state=42))"
   ]
  },
  {
   "cell_type": "markdown",
   "metadata": {},
   "source": [
    "#### Маштабирование признаков\n",
    "\n",
    "Так как у нас есть признаки с большим разбросом данных проведем стандартизацию данных. \n",
    "Из таблицы видно,что данные, которые требуют маштабирования находятся в столбцах: \"CreditScore\", \"Age\", \"Balance\" и \"EstimatedSalary"
   ]
  },
  {
   "cell_type": "code",
   "execution_count": 8,
   "metadata": {},
   "outputs": [],
   "source": [
    "sc_columns = ['CreditScore', 'Age', 'Balance', 'EstimatedSalary']\n",
    "scaler = StandardScaler()\n",
    "scaler.fit(features_train[sc_columns])\n",
    "features_train[sc_columns] = scaler.transform(features_train[sc_columns])\n",
    "features_valid[sc_columns] = scaler.transform(features_valid[sc_columns])"
   ]
  },
  {
   "cell_type": "markdown",
   "metadata": {},
   "source": [
    "Проверим, есть ли дисбаланс у классов."
   ]
  },
  {
   "cell_type": "code",
   "execution_count": 9,
   "metadata": {},
   "outputs": [
    {
     "data": {
      "image/png": "[encoded data removed]",
      "text/plain": [
       "<Figure size 432x288 with 1 Axes>"
      ]
     },
     "metadata": {
      "needs_background": "light"
     },
     "output_type": "display_data"
    },
    {
     "name": "stdout",
     "output_type": "stream",
     "text": [
      "0    7963\n",
      "1    2037\n",
      "Name: Exited, dtype: int64\n"
     ]
    }
   ],
   "source": [
    "data['Exited'].hist()\n",
    "plt.show()\n",
    "\n",
    "print(data['Exited'].value_counts())"
   ]
  },
  {
   "cell_type": "markdown",
   "metadata": {},
   "source": [
    "Из графика видно, что отрицательных классов почти в 4 раза больше, чем положительных."
   ]
  },
  {
   "cell_type": "markdown",
   "metadata": {},
   "source": [
    "# 2. Исследование задачи"
   ]
  },
  {
   "cell_type": "code",
   "execution_count": 10,
   "metadata": {
    "scrolled": false
   },
   "outputs": [
    {
     "name": "stdout",
     "output_type": "stream",
     "text": [
      "F1 =  0.5582191780821918 при n = 50 i =  10\n",
      "F1 =  0.566610455311973 при n = 50 i =  12\n",
      "F1 =  0.5442404006677796 при n = 50 i =  14\n",
      "F1 =  0.5398373983739837 при n = 50 i =  16\n",
      "F1 =  0.5606837606837607 при n = 60 i =  10\n",
      "F1 =  0.5641891891891891 при n = 60 i =  12\n",
      "F1 =  0.5581395348837209 при n = 60 i =  14\n",
      "F1 =  0.5451559934318556 при n = 60 i =  16\n",
      "F1 =  0.5517241379310345 при n = 70 i =  10\n",
      "F1 =  0.5627118644067797 при n = 70 i =  12\n",
      "F1 =  0.5579119086460033 при n = 70 i =  14\n",
      "F1 =  0.549342105263158 при n = 70 i =  16\n",
      "F1 =  0.5504273504273504 при n = 80 i =  10\n",
      "F1 =  0.5641891891891891 при n = 80 i =  12\n",
      "F1 =  0.5620915032679739 при n = 80 i =  14\n",
      "F1 =  0.548440065681445 при n = 80 i =  16\n",
      "F1 =  0.5498281786941581 при n = 90 i =  10\n",
      "F1 =  0.5617597292724196 при n = 90 i =  12\n",
      "F1 =  0.5625000000000001 при n = 90 i =  14\n",
      "F1 =  0.5529801324503312 при n = 90 i =  16\n",
      "CPU times: user 12.4 s, sys: 80 ms, total: 12.5 s\n",
      "Wall time: 12.6 s\n"
     ]
    }
   ],
   "source": [
    "%%time\n",
    "\n",
    "for n in range(50,100,10):\n",
    "    for i in range(10,18,2):\n",
    "        model = RandomForestClassifier(random_state=42, n_estimators=n, max_depth=i)\n",
    "        model.fit(features_train, target_train)\n",
    "        predictions = model.predict(features_valid)\n",
    "        f1 = f1_score(target_valid, predictions)\n",
    "        print('F1 = ', f1, 'при n =', n, 'i = ', i)"
   ]
  },
  {
   "cell_type": "markdown",
   "metadata": {},
   "source": [
    "Лучший результат у случайного леса с количество деревьев = 50 и максимальной глубиной = 12.\n",
    "Проверим модель на тестовой выборке."
   ]
  },
  {
   "cell_type": "code",
   "execution_count": 11,
   "metadata": {
    "scrolled": false
   },
   "outputs": [],
   "source": [
    "model = RandomForestClassifier(random_state=42, n_estimators=50, max_depth=12)\n",
    "model.fit(features_train, target_train)\n",
    "predictions = model.predict(features_test)\n",
    "# используем модель случайного леса с количество деревьев = 50 и максимальной глубиной = 12\n",
    "\n",
    "\n",
    "f1 = f1_score(target_test, predictions)\n",
    "probabilities = model.predict_proba(features_test)\n",
    "probabilities_one_valid = probabilities[:,1]\n",
    "auc_roc = roc_auc_score(target_test, probabilities_one_valid)\n",
    "# считаем значения F1-меры и AUC-ROC\n",
    "\n",
    "\n",
    "\n",
    "\n"
   ]
  },
  {
   "cell_type": "markdown",
   "metadata": {},
   "source": [
    "Выведем значения F1-меры, AUC-ROC, матрицу ошибок, полноту и точность, а также нарисуем граффик ROC-кривой"
   ]
  },
  {
   "cell_type": "code",
   "execution_count": 12,
   "metadata": {
    "scrolled": false
   },
   "outputs": [
    {
     "name": "stdout",
     "output_type": "stream",
     "text": [
      "F1 =  0.37037037037037035\n",
      "AUC ROC =  0.6567138201747889\n",
      "\n",
      "Матрица ошибок\n",
      "[[1010  560]\n",
      " [ 205  225]]\n",
      "\n",
      "Полнота =  0.5232558139534884\n",
      "Точность = 0.28662420382165604\n"
     ]
    },
    {
     "data": {
      "image/png": "[encoded data removed]",
      "text/plain": [
       "<Figure size 720x360 with 1 Axes>"
      ]
     },
     "metadata": {
      "needs_background": "light"
     },
     "output_type": "display_data"
    }
   ],
   "source": [
    "print('F1 = ', f1)\n",
    "print('AUC ROC = ', auc_roc)\n",
    "print( )\n",
    "print('Матрица ошибок')\n",
    "print(confusion_matrix(target_test, predictions))\n",
    "print( )\n",
    "print('Полнота = ', recall_score(target_test, predictions))\n",
    "print('Точность =', precision_score(target_test, predictions))\n",
    "\n",
    "\n",
    "\n",
    "fpr, tpr, thresholds =  roc_curve(target_test, probabilities_one_valid)\n",
    "plt.figure(figsize=(10,5))\n",
    "plt.plot(fpr, tpr)\n",
    "plt.xlim([0.0, 1.0])\n",
    "plt.ylim([0.0, 1.0])\n",
    "plt.xlabel('False Positive Rate')\n",
    "plt.ylabel('True Positive Rate')\n",
    "plt.title('ROC-кривая')\n",
    "\n",
    "plt.plot([0, 1], [0, 1], linestyle='--') # Случайный классификатор.\n",
    "\n",
    "plt.show()"
   ]
  },
  {
   "cell_type": "markdown",
   "metadata": {},
   "source": [
    "#### Вывод.\n",
    "\n",
    "- Построив первую модель, мы видим, что F1-мера имеет не высокое значение: на валидационной выборке - 0.56, на тестовой - 0.37. \n",
    "- Постороив матрицу ошибок мы видим явний дисбаланс классов: отрицательны классов почти в 4 раза больше, чем положительных. Так же модель делает много ошибок\n",
    "- Но модель уже лучше случайной. Это видно из граффика \"ROC-кривая\" и значения AUC-ROC.\n",
    "\n",
    "\n",
    "Нужно улучшать модель путем устарнения дисбаланса."
   ]
  },
  {
   "cell_type": "markdown",
   "metadata": {},
   "source": [
    "# 3. Дисбаланс классов"
   ]
  },
  {
   "cell_type": "markdown",
   "metadata": {},
   "source": [
    "Используем технику взвешивания классов."
   ]
  },
  {
   "cell_type": "code",
   "execution_count": 13,
   "metadata": {},
   "outputs": [
    {
     "name": "stdout",
     "output_type": "stream",
     "text": [
      "F1 =  0.5610098176718092\n",
      "AUC ROC =  0.8341106237816764\n"
     ]
    }
   ],
   "source": [
    "model = RandomForestClassifier(random_state=42, n_estimators=50, max_depth=12, class_weight='balanced')\n",
    "model.fit(features_train, target_train)\n",
    "predictions = model.predict(features_valid)\n",
    "\n",
    "f1 = f1_score(target_valid, predictions)\n",
    "probabilities = model.predict_proba(features_valid)\n",
    "probabilities_one_valid = probabilities[:,1]\n",
    "auc_roc = roc_auc_score(target_valid, probabilities_one_valid)\n",
    "\n",
    "\n",
    "print('F1 = ', f1)\n",
    "print('AUC ROC = ', auc_roc)"
   ]
  },
  {
   "cell_type": "markdown",
   "metadata": {},
   "source": [
    "Модель лучше не стала. Попробуем метод увеличения выборки(upsampling)."
   ]
  },
  {
   "cell_type": "code",
   "execution_count": 14,
   "metadata": {},
   "outputs": [],
   "source": [
    "def upsample(features, target, repeat):\n",
    "    \"\"\"Создадим функцию 'upsample' которая создает новые признаки и цели с \n",
    "    одинаковым количеством отрицательных и положительных классов. \n",
    "    Она получает на вход признаки(features), цели(target), и количество повторов(repeat)\n",
    "    Возвращает увеличенные признаки(features_upsampled) и цели(target_upsamled)\"\"\"\n",
    "    \n",
    "    features_zeros = features[target == 0]\n",
    "    features_ones = features[target == 1]\n",
    "    target_zeros = target[target == 0]\n",
    "    target_ones = target[target == 1]\n",
    "    \n",
    "    features_upsampled = pd.concat([features_zeros] + [features_ones] * repeat)\n",
    "    target_upsamled = pd.concat([target_zeros] + [target_ones] * repeat)\n",
    "    \n",
    "    features_upsampled, target_upsamled = shuffle(features_upsampled, target_upsamled, random_state=42)\n",
    "    \n",
    "    return features_upsampled, target_upsamled"
   ]
  },
  {
   "cell_type": "code",
   "execution_count": 15,
   "metadata": {},
   "outputs": [],
   "source": [
    "features_train_upsampled, target_train_upsamled = upsample(features, target, 4)\n",
    "features_valid_upsampled, target_valid_upsamled = upsample(features, target, 4)"
   ]
  },
  {
   "cell_type": "code",
   "execution_count": 16,
   "metadata": {},
   "outputs": [
    {
     "name": "stdout",
     "output_type": "stream",
     "text": [
      "F1 =  0.9433040078201368\n",
      "AUC ROC =  0.9883343009282438\n"
     ]
    }
   ],
   "source": [
    "model = RandomForestClassifier(random_state=42, n_estimators=50, max_depth=12)\n",
    "model.fit(features_train_upsampled, target_train_upsamled)\n",
    "predictions = model.predict(features_valid_upsampled)\n",
    "\n",
    "f1 = f1_score(target_valid_upsamled, predictions)\n",
    "probabilities = model.predict_proba(features_valid_upsampled)\n",
    "probabilities_one_valid = probabilities[:,1]\n",
    "auc_roc = roc_auc_score(target_valid_upsamled, probabilities_one_valid)\n",
    "\n",
    "\n",
    "\n",
    "print('F1 = ', f1)\n",
    "print('AUC ROC = ', auc_roc)"
   ]
  },
  {
   "cell_type": "code",
   "execution_count": 17,
   "metadata": {
    "scrolled": false
   },
   "outputs": [
    {
     "name": "stdout",
     "output_type": "stream",
     "text": [
      "F1 =  0.9433040078201368\n",
      "AUC ROC =  0.9883343009282438\n",
      "\n",
      "Матрица ошибок\n",
      "[[7463  500]\n",
      " [ 428 7720]]\n",
      "\n",
      "Полнота =  0.9474717722140402\n",
      "Точность = 0.9391727493917275\n"
     ]
    },
    {
     "data": {
      "image/png": "[encoded data removed]",
      "text/plain": [
       "<Figure size 720x360 with 1 Axes>"
      ]
     },
     "metadata": {
      "needs_background": "light"
     },
     "output_type": "display_data"
    }
   ],
   "source": [
    "print('F1 = ', f1)\n",
    "print('AUC ROC = ', auc_roc)\n",
    "print( )\n",
    "print('Матрица ошибок')\n",
    "print(confusion_matrix(target_valid_upsamled, predictions))\n",
    "print( )\n",
    "print('Полнота = ', recall_score(target_valid_upsamled, predictions))\n",
    "print('Точность =', precision_score(target_valid_upsamled, predictions))\n",
    "\n",
    "\n",
    "fpr, tpr, thresholds =  roc_curve(target_valid_upsamled, probabilities_one_valid)\n",
    "plt.figure(figsize=(10,5))\n",
    "plt.plot(fpr, tpr)\n",
    "plt.xlim([0.0, 1.0])\n",
    "plt.ylim([0.0, 1.0])\n",
    "plt.xlabel('False Positive Rate')\n",
    "plt.ylabel('True Positive Rate')\n",
    "plt.title('ROC-кривая')\n",
    "\n",
    "plt.plot([0, 1], [0, 1], linestyle='--') # Случайный классификатор.\n",
    "\n",
    "plt.show()"
   ]
  },
  {
   "cell_type": "markdown",
   "metadata": {},
   "source": [
    "Используя метод upsampling мы получили очень хорошую модель. Попробуем совместить оба способа."
   ]
  },
  {
   "cell_type": "code",
   "execution_count": 18,
   "metadata": {},
   "outputs": [
    {
     "name": "stdout",
     "output_type": "stream",
     "text": [
      "F1 =  0.9436748642216392\n",
      "AUC ROC =  0.9883247451964107\n",
      "\n",
      "Матрица ошибок\n",
      "[[7456  507]\n",
      " [ 416 7732]]\n"
     ]
    }
   ],
   "source": [
    "model = RandomForestClassifier(random_state=42, n_estimators=50, max_depth=12, class_weight='balanced')\n",
    "model.fit(features_train_upsampled, target_train_upsamled)\n",
    "predictions = model.predict(features_valid_upsampled)\n",
    "\n",
    "f1 = f1_score(target_valid_upsamled, predictions)\n",
    "probabilities = model.predict_proba(features_valid_upsampled)\n",
    "probabilities_one_valid = probabilities[:,1]\n",
    "auc_roc = roc_auc_score(target_valid_upsamled, probabilities_one_valid)\n",
    "\n",
    "\n",
    "\n",
    "print('F1 = ', f1)\n",
    "print('AUC ROC = ', auc_roc)\n",
    "print()\n",
    "print('Матрица ошибок')\n",
    "print(confusion_matrix(target_valid_upsamled, predictions))"
   ]
  },
  {
   "cell_type": "markdown",
   "metadata": {},
   "source": [
    "####  Вывод.\n",
    "\n",
    "Используя функции upsampling и технику взвешивания классов мы получили самую лучшую модель с наименьшим количеством ошибок, что видно в \"Матрице ошибок\" и с наибольшими значениями F1-меры и AUC ROC.\n",
    "\n",
    "Проверим модель на тестовой выборке."
   ]
  },
  {
   "cell_type": "markdown",
   "metadata": {},
   "source": [
    "# 4. Тестирование модели"
   ]
  },
  {
   "cell_type": "code",
   "execution_count": 19,
   "metadata": {},
   "outputs": [
    {
     "name": "stdout",
     "output_type": "stream",
     "text": [
      "F1 =  0.8814655172413792\n",
      "AUC ROC =  0.989842986224263\n",
      "Accuracy =  0.945\n",
      "\n",
      "Матрица ошибок\n",
      "[[1481   89]\n",
      " [  21  409]]\n"
     ]
    }
   ],
   "source": [
    "predictions = model.predict(features_test)\n",
    "\n",
    "f1 = f1_score(target_test, predictions)\n",
    "probabilities = model.predict_proba(features_test)\n",
    "probabilities_one_valid = probabilities[:,1]\n",
    "auc_roc = roc_auc_score(target_test, probabilities_one_valid)\n",
    "print('F1 = ', f1)\n",
    "print('AUC ROC = ', auc_roc)\n",
    "print('Accuracy = ', accuracy_score(target_test, predictions))\n",
    "print()\n",
    "print('Матрица ошибок')\n",
    "print(confusion_matrix(target_test, predictions))\n",
    "\n"
   ]
  },
  {
   "cell_type": "markdown",
   "metadata": {},
   "source": [
    "# Вывод.\n",
    "\n",
    "Протестировав модель на тестовой выборке, мы получили хорошие результаты. Значение F1-меры = 0.88, а значение AUC ROC приближается к 1, что говорит от том, что эта модель хорошо предсказывает истино положительные, и почти не делает ошибок.\n",
    "Значение Accarucy так же на высоком уровне.\n",
    "\n",
    "Считаю, что данную модель можно использовать в продакшене."
   ]
  }
 ],
 "metadata": {
  "kernelspec": {
   "display_name": "Python 3",
   "language": "python",
   "name": "python3"
  },
  "language_info": {
   "codemirror_mode": {
    "name": "ipython",
    "version": 3
   },
   "file_extension": ".py",
   "mimetype": "text/x-python",
   "name": "python",
   "nbconvert_exporter": "python",
   "pygments_lexer": "ipython3",
   "version": "3.7.4"
  }
 },
 "nbformat": 4,
 "nbformat_minor": 2
}
