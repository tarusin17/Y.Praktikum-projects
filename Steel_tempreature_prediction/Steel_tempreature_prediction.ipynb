{
  "nbformat": 4,
  "nbformat_minor": 0,
  "metadata": {
    "kernelspec": {
      "display_name": "Python 3",
      "language": "python",
      "name": "python3"
    },
    "language_info": {
      "codemirror_mode": {
        "name": "ipython",
        "version": 3
      },
      "file_extension": ".py",
      "mimetype": "text/x-python",
      "name": "python",
      "nbconvert_exporter": "python",
      "pygments_lexer": "ipython3",
      "version": "3.7.6"
    },
    "colab": {
      "name": "d52bfd0a-2c94-4ef0-85e5-b1adc9675831.ipynb",
      "provenance": []
    }
  },
  "cells": [
    {
      "cell_type": "markdown",
      "metadata": {
        "id": "NzhHK-uKB7Sm"
      },
      "source": [
        "### Условие задачи\n",
        "\n",
        "Чтобы оптимизировать производственные расходы, металлургический комбинат ООО «Так закаляем сталь» решил уменьшить потребление электроэнергии на этапе обработки стали. Нужно построить модель, которая предскажет температуру стали.\n",
        "\n",
        "\n",
        "### Описание данных\n",
        "\n",
        "Данные состоят из файлов, полученных из разных источников:\n",
        "\n",
        "- `data_arc.csv` — данные об электродах;\n",
        "- `data_bulk.csv` — данные о подаче сыпучих материалов (объём);\n",
        "- `data_bulk_time.csv` *—* данные о подаче сыпучих материалов (время);\n",
        "- `data_gas.csv` — данные о продувке сплава газом;\n",
        "- `data_temp.csv` — результаты измерения температуры;\n",
        "- `data_wire.csv` — данные о проволочных материалах (объём);\n",
        "- `data_wire_time.csv` — данные о проволочных материалах (время).\n",
        "\n",
        "\n",
        "- `Целевой признак (target)`: последняя измеренная температура.\n",
        "- `Метрика` : MAE "
      ]
    },
    {
      "cell_type": "markdown",
      "metadata": {
        "id": "5JMBcj6SB7Sm"
      },
      "source": [
        "### План работы \n",
        "\n",
        "1. **Анализ данных.** \n",
        "     - Нужно построить граффики, проверить есть ли выбросы. Проверить корреляции финальной температуры с активной мощностью, объемом проволочных материалов, количеством газа.\n",
        "     \n",
        "\n",
        "2. **Подготовка данных**\n",
        "    - Выделить target \n",
        "    - Заполнить или удалить пропуски в features. Удалить ненужные данные.\n",
        "\n",
        "\n",
        "3. **Создание модель** \n",
        "    - Разделить данные на тренировочную и тестовую выборки.\n",
        "    - Протестировать несколько моделей для предсказания и вырать лучшую.\n",
        "    - Подобрать оптимальные параметры.\n",
        "\n",
        "\n",
        "4. **Написание выводов**"
      ]
    },
    {
      "cell_type": "markdown",
      "metadata": {
        "id": "6zDHgkUZB7Sm"
      },
      "source": [
        "## 1. Анализ данных"
      ]
    },
    {
      "cell_type": "code",
      "metadata": {
        "id": "gxkWZqljB7Sn"
      },
      "source": [
        "import pandas as pd\n",
        "import numpy as np\n",
        "from matplotlib import pyplot as plt\n",
        "import math\n",
        "from sklearn.metrics import mean_absolute_error\n",
        "from sklearn.linear_model import LinearRegression\n",
        "from sklearn.ensemble import RandomForestRegressor\n",
        "from sklearn.model_selection import cross_val_score\n",
        "from sklearn.model_selection import train_test_split\n",
        "from catboost import CatBoostRegressor\n",
        "from sklearn.model_selection import GridSearchCV\n",
        "\n",
        "\n",
        "import warnings\n",
        "warnings.filterwarnings(\"ignore\")"
      ],
      "execution_count": null,
      "outputs": []
    },
    {
      "cell_type": "code",
      "metadata": {
        "id": "xTmsPij7B7Sn"
      },
      "source": [
        "data_arc = pd.read_csv('/datasets/final_steel/data_arc.csv', index_col='key')\n",
        "data_bulk = pd.read_csv('/datasets/final_steel/data_bulk.csv', index_col='key')\n",
        "data_bulk_time = pd.read_csv('/datasets/final_steel/data_bulk_time.csv', index_col='key')\n",
        "data_gas = pd.read_csv('/datasets/final_steel/data_gas.csv', index_col='key')\n",
        "data_temp = pd.read_csv('/datasets/final_steel/data_temp.csv', index_col='key')\n",
        "data_wire = pd.read_csv('/datasets/final_steel/data_wire.csv', index_col='key')\n",
        "data_wire_time = pd.read_csv('/datasets/final_steel/data_wire_time.csv', index_col='key')"
      ],
      "execution_count": null,
      "outputs": []
    },
    {
      "cell_type": "code",
      "metadata": {
        "id": "TUcgVjyDB7Sn",
        "outputId": "2ad99337-16a7-489e-9cc3-7265511f4a2f"
      },
      "source": [
        "data_temp"
      ],
      "execution_count": null,
      "outputs": [
        {
          "output_type": "execute_result",
          "data": {
            "text/html": [
              "<div>\n",
              "<style scoped>\n",
              "    .dataframe tbody tr th:only-of-type {\n",
              "        vertical-align: middle;\n",
              "    }\n",
              "\n",
              "    .dataframe tbody tr th {\n",
              "        vertical-align: top;\n",
              "    }\n",
              "\n",
              "    .dataframe thead th {\n",
              "        text-align: right;\n",
              "    }\n",
              "</style>\n",
              "<table border=\"1\" class=\"dataframe\">\n",
              "  <thead>\n",
              "    <tr style=\"text-align: right;\">\n",
              "      <th></th>\n",
              "      <th>Время замера</th>\n",
              "      <th>Температура</th>\n",
              "    </tr>\n",
              "    <tr>\n",
              "      <th>key</th>\n",
              "      <th></th>\n",
              "      <th></th>\n",
              "    </tr>\n",
              "  </thead>\n",
              "  <tbody>\n",
              "    <tr>\n",
              "      <td>1</td>\n",
              "      <td>2019-05-03 11:16:18</td>\n",
              "      <td>1571.0</td>\n",
              "    </tr>\n",
              "    <tr>\n",
              "      <td>1</td>\n",
              "      <td>2019-05-03 11:25:53</td>\n",
              "      <td>1604.0</td>\n",
              "    </tr>\n",
              "    <tr>\n",
              "      <td>1</td>\n",
              "      <td>2019-05-03 11:29:11</td>\n",
              "      <td>1618.0</td>\n",
              "    </tr>\n",
              "    <tr>\n",
              "      <td>1</td>\n",
              "      <td>2019-05-03 11:30:01</td>\n",
              "      <td>1601.0</td>\n",
              "    </tr>\n",
              "    <tr>\n",
              "      <td>1</td>\n",
              "      <td>2019-05-03 11:30:39</td>\n",
              "      <td>1613.0</td>\n",
              "    </tr>\n",
              "    <tr>\n",
              "      <td>...</td>\n",
              "      <td>...</td>\n",
              "      <td>...</td>\n",
              "    </tr>\n",
              "    <tr>\n",
              "      <td>3241</td>\n",
              "      <td>2019-09-01 04:03:30</td>\n",
              "      <td>1586.0</td>\n",
              "    </tr>\n",
              "    <tr>\n",
              "      <td>3241</td>\n",
              "      <td>2019-09-01 04:16:12</td>\n",
              "      <td>NaN</td>\n",
              "    </tr>\n",
              "    <tr>\n",
              "      <td>3241</td>\n",
              "      <td>2019-09-01 04:22:39</td>\n",
              "      <td>NaN</td>\n",
              "    </tr>\n",
              "    <tr>\n",
              "      <td>3241</td>\n",
              "      <td>2019-09-01 04:33:42</td>\n",
              "      <td>NaN</td>\n",
              "    </tr>\n",
              "    <tr>\n",
              "      <td>3241</td>\n",
              "      <td>2019-09-01 04:38:08</td>\n",
              "      <td>NaN</td>\n",
              "    </tr>\n",
              "  </tbody>\n",
              "</table>\n",
              "<p>15907 rows × 2 columns</p>\n",
              "</div>"
            ],
            "text/plain": [
              "             Время замера  Температура\n",
              "key                                   \n",
              "1     2019-05-03 11:16:18       1571.0\n",
              "1     2019-05-03 11:25:53       1604.0\n",
              "1     2019-05-03 11:29:11       1618.0\n",
              "1     2019-05-03 11:30:01       1601.0\n",
              "1     2019-05-03 11:30:39       1613.0\n",
              "...                   ...          ...\n",
              "3241  2019-09-01 04:03:30       1586.0\n",
              "3241  2019-09-01 04:16:12          NaN\n",
              "3241  2019-09-01 04:22:39          NaN\n",
              "3241  2019-09-01 04:33:42          NaN\n",
              "3241  2019-09-01 04:38:08          NaN\n",
              "\n",
              "[15907 rows x 2 columns]"
            ]
          },
          "metadata": {
            "tags": []
          },
          "execution_count": 3
        }
      ]
    },
    {
      "cell_type": "code",
      "metadata": {
        "id": "n9RBnJbnB7So",
        "outputId": "7eb7d75e-4ea2-487a-9923-fa933277614a"
      },
      "source": [
        "print(data_temp.describe())\n",
        "print()\n",
        "print(data_temp.info())\n",
        "data_temp"
      ],
      "execution_count": null,
      "outputs": [
        {
          "output_type": "stream",
          "text": [
            "        Температура\n",
            "count  13006.000000\n",
            "mean    1591.840920\n",
            "std       21.375851\n",
            "min     1191.000000\n",
            "25%     1581.000000\n",
            "50%     1591.000000\n",
            "75%     1601.000000\n",
            "max     1705.000000\n",
            "\n",
            "<class 'pandas.core.frame.DataFrame'>\n",
            "Int64Index: 15907 entries, 1 to 3241\n",
            "Data columns (total 2 columns):\n",
            "Время замера    15907 non-null object\n",
            "Температура     13006 non-null float64\n",
            "dtypes: float64(1), object(1)\n",
            "memory usage: 372.8+ KB\n",
            "None\n"
          ],
          "name": "stdout"
        },
        {
          "output_type": "execute_result",
          "data": {
            "text/html": [
              "<div>\n",
              "<style scoped>\n",
              "    .dataframe tbody tr th:only-of-type {\n",
              "        vertical-align: middle;\n",
              "    }\n",
              "\n",
              "    .dataframe tbody tr th {\n",
              "        vertical-align: top;\n",
              "    }\n",
              "\n",
              "    .dataframe thead th {\n",
              "        text-align: right;\n",
              "    }\n",
              "</style>\n",
              "<table border=\"1\" class=\"dataframe\">\n",
              "  <thead>\n",
              "    <tr style=\"text-align: right;\">\n",
              "      <th></th>\n",
              "      <th>Время замера</th>\n",
              "      <th>Температура</th>\n",
              "    </tr>\n",
              "    <tr>\n",
              "      <th>key</th>\n",
              "      <th></th>\n",
              "      <th></th>\n",
              "    </tr>\n",
              "  </thead>\n",
              "  <tbody>\n",
              "    <tr>\n",
              "      <td>1</td>\n",
              "      <td>2019-05-03 11:16:18</td>\n",
              "      <td>1571.0</td>\n",
              "    </tr>\n",
              "    <tr>\n",
              "      <td>1</td>\n",
              "      <td>2019-05-03 11:25:53</td>\n",
              "      <td>1604.0</td>\n",
              "    </tr>\n",
              "    <tr>\n",
              "      <td>1</td>\n",
              "      <td>2019-05-03 11:29:11</td>\n",
              "      <td>1618.0</td>\n",
              "    </tr>\n",
              "    <tr>\n",
              "      <td>1</td>\n",
              "      <td>2019-05-03 11:30:01</td>\n",
              "      <td>1601.0</td>\n",
              "    </tr>\n",
              "    <tr>\n",
              "      <td>1</td>\n",
              "      <td>2019-05-03 11:30:39</td>\n",
              "      <td>1613.0</td>\n",
              "    </tr>\n",
              "    <tr>\n",
              "      <td>...</td>\n",
              "      <td>...</td>\n",
              "      <td>...</td>\n",
              "    </tr>\n",
              "    <tr>\n",
              "      <td>3241</td>\n",
              "      <td>2019-09-01 04:03:30</td>\n",
              "      <td>1586.0</td>\n",
              "    </tr>\n",
              "    <tr>\n",
              "      <td>3241</td>\n",
              "      <td>2019-09-01 04:16:12</td>\n",
              "      <td>NaN</td>\n",
              "    </tr>\n",
              "    <tr>\n",
              "      <td>3241</td>\n",
              "      <td>2019-09-01 04:22:39</td>\n",
              "      <td>NaN</td>\n",
              "    </tr>\n",
              "    <tr>\n",
              "      <td>3241</td>\n",
              "      <td>2019-09-01 04:33:42</td>\n",
              "      <td>NaN</td>\n",
              "    </tr>\n",
              "    <tr>\n",
              "      <td>3241</td>\n",
              "      <td>2019-09-01 04:38:08</td>\n",
              "      <td>NaN</td>\n",
              "    </tr>\n",
              "  </tbody>\n",
              "</table>\n",
              "<p>15907 rows × 2 columns</p>\n",
              "</div>"
            ],
            "text/plain": [
              "             Время замера  Температура\n",
              "key                                   \n",
              "1     2019-05-03 11:16:18       1571.0\n",
              "1     2019-05-03 11:25:53       1604.0\n",
              "1     2019-05-03 11:29:11       1618.0\n",
              "1     2019-05-03 11:30:01       1601.0\n",
              "1     2019-05-03 11:30:39       1613.0\n",
              "...                   ...          ...\n",
              "3241  2019-09-01 04:03:30       1586.0\n",
              "3241  2019-09-01 04:16:12          NaN\n",
              "3241  2019-09-01 04:22:39          NaN\n",
              "3241  2019-09-01 04:33:42          NaN\n",
              "3241  2019-09-01 04:38:08          NaN\n",
              "\n",
              "[15907 rows x 2 columns]"
            ]
          },
          "metadata": {
            "tags": []
          },
          "execution_count": 4
        }
      ]
    },
    {
      "cell_type": "code",
      "metadata": {
        "id": "vjUAlPffB7Sp",
        "outputId": "5055462e-94be-43f7-947c-2e8b011fdf4f"
      },
      "source": [
        "data_temp.isna().sum()"
      ],
      "execution_count": null,
      "outputs": [
        {
          "output_type": "execute_result",
          "data": {
            "text/plain": [
              "Время замера       0\n",
              "Температура     2901\n",
              "dtype: int64"
            ]
          },
          "metadata": {
            "tags": []
          },
          "execution_count": 5
        }
      ]
    },
    {
      "cell_type": "code",
      "metadata": {
        "id": "g0UPEqq9B7Sp",
        "outputId": "1c797e09-2d4b-4f64-a9af-e77cdc5ff424"
      },
      "source": [
        "data_temp.query('Температура == \"NaN\"')"
      ],
      "execution_count": null,
      "outputs": [
        {
          "output_type": "execute_result",
          "data": {
            "text/html": [
              "<div>\n",
              "<style scoped>\n",
              "    .dataframe tbody tr th:only-of-type {\n",
              "        vertical-align: middle;\n",
              "    }\n",
              "\n",
              "    .dataframe tbody tr th {\n",
              "        vertical-align: top;\n",
              "    }\n",
              "\n",
              "    .dataframe thead th {\n",
              "        text-align: right;\n",
              "    }\n",
              "</style>\n",
              "<table border=\"1\" class=\"dataframe\">\n",
              "  <thead>\n",
              "    <tr style=\"text-align: right;\">\n",
              "      <th></th>\n",
              "      <th>Время замера</th>\n",
              "      <th>Температура</th>\n",
              "    </tr>\n",
              "    <tr>\n",
              "      <th>key</th>\n",
              "      <th></th>\n",
              "      <th></th>\n",
              "    </tr>\n",
              "  </thead>\n",
              "  <tbody>\n",
              "    <tr>\n",
              "      <td>2500</td>\n",
              "      <td>2019-08-06 03:24:43</td>\n",
              "      <td>NaN</td>\n",
              "    </tr>\n",
              "    <tr>\n",
              "      <td>2500</td>\n",
              "      <td>2019-08-06 03:25:16</td>\n",
              "      <td>NaN</td>\n",
              "    </tr>\n",
              "    <tr>\n",
              "      <td>2500</td>\n",
              "      <td>2019-08-06 03:28:21</td>\n",
              "      <td>NaN</td>\n",
              "    </tr>\n",
              "    <tr>\n",
              "      <td>2501</td>\n",
              "      <td>2019-08-06 04:01:59</td>\n",
              "      <td>NaN</td>\n",
              "    </tr>\n",
              "    <tr>\n",
              "      <td>2501</td>\n",
              "      <td>2019-08-06 04:14:35</td>\n",
              "      <td>NaN</td>\n",
              "    </tr>\n",
              "    <tr>\n",
              "      <td>...</td>\n",
              "      <td>...</td>\n",
              "      <td>...</td>\n",
              "    </tr>\n",
              "    <tr>\n",
              "      <td>3240</td>\n",
              "      <td>2019-09-01 03:35:16</td>\n",
              "      <td>NaN</td>\n",
              "    </tr>\n",
              "    <tr>\n",
              "      <td>3241</td>\n",
              "      <td>2019-09-01 04:16:12</td>\n",
              "      <td>NaN</td>\n",
              "    </tr>\n",
              "    <tr>\n",
              "      <td>3241</td>\n",
              "      <td>2019-09-01 04:22:39</td>\n",
              "      <td>NaN</td>\n",
              "    </tr>\n",
              "    <tr>\n",
              "      <td>3241</td>\n",
              "      <td>2019-09-01 04:33:42</td>\n",
              "      <td>NaN</td>\n",
              "    </tr>\n",
              "    <tr>\n",
              "      <td>3241</td>\n",
              "      <td>2019-09-01 04:38:08</td>\n",
              "      <td>NaN</td>\n",
              "    </tr>\n",
              "  </tbody>\n",
              "</table>\n",
              "<p>2901 rows × 2 columns</p>\n",
              "</div>"
            ],
            "text/plain": [
              "             Время замера  Температура\n",
              "key                                   \n",
              "2500  2019-08-06 03:24:43          NaN\n",
              "2500  2019-08-06 03:25:16          NaN\n",
              "2500  2019-08-06 03:28:21          NaN\n",
              "2501  2019-08-06 04:01:59          NaN\n",
              "2501  2019-08-06 04:14:35          NaN\n",
              "...                   ...          ...\n",
              "3240  2019-09-01 03:35:16          NaN\n",
              "3241  2019-09-01 04:16:12          NaN\n",
              "3241  2019-09-01 04:22:39          NaN\n",
              "3241  2019-09-01 04:33:42          NaN\n",
              "3241  2019-09-01 04:38:08          NaN\n",
              "\n",
              "[2901 rows x 2 columns]"
            ]
          },
          "metadata": {
            "tags": []
          },
          "execution_count": 6
        }
      ]
    },
    {
      "cell_type": "code",
      "metadata": {
        "id": "uYD_ld-DB7Sp",
        "outputId": "e2321d55-a44e-42fa-ae08-6781552ce75b"
      },
      "source": [
        "plt.figure(figsize=(12,5), dpi=80)\n",
        "data_temp.boxplot(column='Температура', vert=False)\n",
        "plt.show;"
      ],
      "execution_count": null,
      "outputs": [
        {
          "output_type": "display_data",
          "data": {
            "image/png": "[encoded data removed]",
            "text/plain": [
              "<Figure size 960x400 with 1 Axes>"
            ]
          },
          "metadata": {
            "tags": [],
            "needs_background": "light"
          }
        }
      ]
    },
    {
      "cell_type": "code",
      "metadata": {
        "id": "DA-EQweoB7Sp",
        "outputId": "bfdeaaad-03b6-473a-d6c7-0bcc24c11ab7"
      },
      "source": [
        "group_temp = data_temp.groupby('key')['Время замера', 'Температура'].last()\n",
        "plt.figure(figsize=(12,5), dpi=80)\n",
        "group_temp.boxplot(column='Температура', vert=False)\n",
        "plt.show;"
      ],
      "execution_count": null,
      "outputs": [
        {
          "output_type": "display_data",
          "data": {
            "image/png": "[encoded data removed]",
            "text/plain": [
              "<Figure size 960x400 with 1 Axes>"
            ]
          },
          "metadata": {
            "tags": [],
            "needs_background": "light"
          }
        }
      ]
    },
    {
      "cell_type": "code",
      "metadata": {
        "id": "yyngqANmB7Sp",
        "outputId": "10156265-7cb4-48b3-8ae9-c5f8f82db647"
      },
      "source": [
        "group_arc = data_arc.groupby('key')['Активная мощность', 'Реактивная мощность'].last()\n",
        "\n",
        "print(group_temp['Температура'].corr(group_arc['Активная мощность']))\n",
        "print(group_temp['Температура'].corr(group_arc['Реактивная мощность']))"
      ],
      "execution_count": null,
      "outputs": [
        {
          "output_type": "stream",
          "text": [
            "0.13392313115228607\n",
            "0.10742558977964724\n"
          ],
          "name": "stdout"
        }
      ]
    },
    {
      "cell_type": "markdown",
      "metadata": {
        "id": "LO5Cuk-MB7Sp"
      },
      "source": [
        " ##  2. Подготовка данных"
      ]
    },
    {
      "cell_type": "code",
      "metadata": {
        "id": "MZoaFX7EB7Sp"
      },
      "source": [
        "def pivot(data, index, values, columns):\n",
        "    data = data.fillna(0)\n",
        "    data = pd.pivot_table(data, index=[index], values=values, aggfunc=['first', 'last'])\n",
        "    data.columns = columns\n",
        "    return data"
      ],
      "execution_count": null,
      "outputs": []
    },
    {
      "cell_type": "code",
      "metadata": {
        "id": "IUed8oqNB7Sq",
        "outputId": "8c38c5e9-7569-4ab6-b18f-fc1917ac3c6e"
      },
      "source": [
        "pivot_data_temp = pivot(data_temp, 'key', 'Температура', ('first_temp', 'last_temp')).query('last_temp != 0.0')\n",
        "pivot_data_temp"
      ],
      "execution_count": null,
      "outputs": [
        {
          "output_type": "execute_result",
          "data": {
            "text/html": [
              "<div>\n",
              "<style scoped>\n",
              "    .dataframe tbody tr th:only-of-type {\n",
              "        vertical-align: middle;\n",
              "    }\n",
              "\n",
              "    .dataframe tbody tr th {\n",
              "        vertical-align: top;\n",
              "    }\n",
              "\n",
              "    .dataframe thead th {\n",
              "        text-align: right;\n",
              "    }\n",
              "</style>\n",
              "<table border=\"1\" class=\"dataframe\">\n",
              "  <thead>\n",
              "    <tr style=\"text-align: right;\">\n",
              "      <th></th>\n",
              "      <th>first_temp</th>\n",
              "      <th>last_temp</th>\n",
              "    </tr>\n",
              "    <tr>\n",
              "      <th>key</th>\n",
              "      <th></th>\n",
              "      <th></th>\n",
              "    </tr>\n",
              "  </thead>\n",
              "  <tbody>\n",
              "    <tr>\n",
              "      <td>1</td>\n",
              "      <td>1571.0</td>\n",
              "      <td>1613.0</td>\n",
              "    </tr>\n",
              "    <tr>\n",
              "      <td>2</td>\n",
              "      <td>1581.0</td>\n",
              "      <td>1602.0</td>\n",
              "    </tr>\n",
              "    <tr>\n",
              "      <td>3</td>\n",
              "      <td>1596.0</td>\n",
              "      <td>1599.0</td>\n",
              "    </tr>\n",
              "    <tr>\n",
              "      <td>4</td>\n",
              "      <td>1601.0</td>\n",
              "      <td>1625.0</td>\n",
              "    </tr>\n",
              "    <tr>\n",
              "      <td>5</td>\n",
              "      <td>1576.0</td>\n",
              "      <td>1602.0</td>\n",
              "    </tr>\n",
              "    <tr>\n",
              "      <td>...</td>\n",
              "      <td>...</td>\n",
              "      <td>...</td>\n",
              "    </tr>\n",
              "    <tr>\n",
              "      <td>2495</td>\n",
              "      <td>1570.0</td>\n",
              "      <td>1591.0</td>\n",
              "    </tr>\n",
              "    <tr>\n",
              "      <td>2496</td>\n",
              "      <td>1554.0</td>\n",
              "      <td>1591.0</td>\n",
              "    </tr>\n",
              "    <tr>\n",
              "      <td>2497</td>\n",
              "      <td>1571.0</td>\n",
              "      <td>1589.0</td>\n",
              "    </tr>\n",
              "    <tr>\n",
              "      <td>2498</td>\n",
              "      <td>1591.0</td>\n",
              "      <td>1594.0</td>\n",
              "    </tr>\n",
              "    <tr>\n",
              "      <td>2499</td>\n",
              "      <td>1569.0</td>\n",
              "      <td>1603.0</td>\n",
              "    </tr>\n",
              "  </tbody>\n",
              "</table>\n",
              "<p>2477 rows × 2 columns</p>\n",
              "</div>"
            ],
            "text/plain": [
              "      first_temp  last_temp\n",
              "key                        \n",
              "1         1571.0     1613.0\n",
              "2         1581.0     1602.0\n",
              "3         1596.0     1599.0\n",
              "4         1601.0     1625.0\n",
              "5         1576.0     1602.0\n",
              "...          ...        ...\n",
              "2495      1570.0     1591.0\n",
              "2496      1554.0     1591.0\n",
              "2497      1571.0     1589.0\n",
              "2498      1591.0     1594.0\n",
              "2499      1569.0     1603.0\n",
              "\n",
              "[2477 rows x 2 columns]"
            ]
          },
          "metadata": {
            "tags": []
          },
          "execution_count": 11
        }
      ]
    },
    {
      "cell_type": "code",
      "metadata": {
        "id": "6DJJsBmiB7Sq"
      },
      "source": [
        "#Создадим столбцы полной мощности для первого и последнего замеров\n",
        "\n",
        "pivot_data_arc = pivot(data_arc, 'key',\n",
        "                      ('Активная мощность', 'Реактивная мощность'), \n",
        "                      ('first_a_power', 'first_r_power', 'last_a_power', 'last_r_power'))\n",
        "pivot_data_arc\n",
        "pivot_data_arc['first_full_power'] = pivot_data_arc.apply(lambda x: math.sqrt((x[0])**2 + (x[1])**2), axis=1)\n",
        "pivot_data_arc['last_full_power'] = pivot_data_arc.apply(lambda x: math.sqrt((x[2])**2 + (x[3])**2), axis=1)"
      ],
      "execution_count": null,
      "outputs": []
    },
    {
      "cell_type": "code",
      "metadata": {
        "id": "v-zZYSmbB7Sq"
      },
      "source": [
        "# Создадим столбцы с суммами добавок\n",
        "\n",
        "data_bulk['bulk_sum'] = data_bulk.sum(axis=1)\n",
        "data_wire['wire_sum'] = data_wire.sum(axis=1)\n",
        "data_gas.columns = ['gas']"
      ],
      "execution_count": null,
      "outputs": []
    },
    {
      "cell_type": "code",
      "metadata": {
        "id": "ChVEAUPjB7Sq"
      },
      "source": [
        "#Создадим колонку время нагрева\n",
        "\n",
        "data_temp['Время замера'] = pd.to_datetime(data_temp['Время замера'], format='%Y-%m-%d %H:%M:%S')\n",
        "data_temp['Время замера'] = pd.to_timedelta(data_temp['Время замера'])\n",
        "time = data_temp.groupby('key').agg({'Время замера': ['first', 'last']})\n",
        "time.columns = ['начальное время замера', 'финальное время замера']\n",
        "time['heating_time'] = time['финальное время замера'].dt.total_seconds() - time['начальное время замера'].dt.total_seconds()"
      ],
      "execution_count": null,
      "outputs": []
    },
    {
      "cell_type": "code",
      "metadata": {
        "id": "XTs9KhZPB7Sq"
      },
      "source": [
        "#Объединим все столбцы в одну таблицу по индексу key\n",
        "\n",
        "full_data = pivot_data_temp.merge(pivot_data_arc, how='left', on='key')\n",
        "full_data = full_data.merge(data_bulk, how='left', on='key')\n",
        "full_data = full_data.merge(data_wire, how='left', on='key')\n",
        "full_data = full_data.merge(data_gas, how='left', on='key')\n",
        "full_data = full_data.merge(time['heating_time'], how='left', on='key')\n",
        "\n",
        "#Добавим стобец работа перемножив время нагрева и полную мощность\n",
        "full_data['work'] = full_data['heating_time'] * full_data['last_full_power']"
      ],
      "execution_count": null,
      "outputs": []
    },
    {
      "cell_type": "code",
      "metadata": {
        "id": "1CcvCwvaB7Sq",
        "outputId": "b3f18bbd-51e6-485b-8cca-655d52ca6b91"
      },
      "source": [
        "full_data.isna().sum()"
      ],
      "execution_count": null,
      "outputs": [
        {
          "output_type": "execute_result",
          "data": {
            "text/plain": [
              "first_temp             0\n",
              "last_temp              0\n",
              "first_a_power          2\n",
              "first_r_power          2\n",
              "last_a_power           2\n",
              "last_r_power           2\n",
              "first_full_power       2\n",
              "last_full_power        2\n",
              "Bulk 1              2278\n",
              "Bulk 2              2464\n",
              "Bulk 3              1512\n",
              "Bulk 4              1663\n",
              "Bulk 5              2424\n",
              "Bulk 6              2033\n",
              "Bulk 7              2463\n",
              "Bulk 8              2476\n",
              "Bulk 9              2464\n",
              "Bulk 10             2334\n",
              "Bulk 11             2347\n",
              "Bulk 12              595\n",
              "Bulk 13             2463\n",
              "Bulk 14              340\n",
              "Bulk 15              764\n",
              "bulk_sum              69\n",
              "Wire 1               128\n",
              "Wire 2              1644\n",
              "Wire 3              2438\n",
              "Wire 4              2465\n",
              "Wire 5              2477\n",
              "Wire 6              2432\n",
              "Wire 7              2473\n",
              "Wire 8              2464\n",
              "Wire 9              2449\n",
              "wire_sum             104\n",
              "gas                    2\n",
              "heating_time           0\n",
              "work                   2\n",
              "dtype: int64"
            ]
          },
          "metadata": {
            "tags": []
          },
          "execution_count": 16
        }
      ]
    },
    {
      "cell_type": "code",
      "metadata": {
        "id": "sIz3dyW-B7Sq",
        "outputId": "7f136900-9b47-46df-f660-b250982f4235"
      },
      "source": [
        "#Удалим строки с пропущеными значениями в столбце с начальной мощностью\n",
        "full_data = full_data.dropna(subset = ['first_full_power', 'last_full_power','gas', 'wire_sum', 'bulk_sum', 'work'], \n",
        "                             inplace=False)\n",
        "\n",
        "#Заполним оставшиеся пропуски нулями\n",
        "full_data = full_data.fillna(0)\n",
        "full_data.isnull().sum()\n"
      ],
      "execution_count": null,
      "outputs": [
        {
          "output_type": "execute_result",
          "data": {
            "text/plain": [
              "first_temp          0\n",
              "last_temp           0\n",
              "first_a_power       0\n",
              "first_r_power       0\n",
              "last_a_power        0\n",
              "last_r_power        0\n",
              "first_full_power    0\n",
              "last_full_power     0\n",
              "Bulk 1              0\n",
              "Bulk 2              0\n",
              "Bulk 3              0\n",
              "Bulk 4              0\n",
              "Bulk 5              0\n",
              "Bulk 6              0\n",
              "Bulk 7              0\n",
              "Bulk 8              0\n",
              "Bulk 9              0\n",
              "Bulk 10             0\n",
              "Bulk 11             0\n",
              "Bulk 12             0\n",
              "Bulk 13             0\n",
              "Bulk 14             0\n",
              "Bulk 15             0\n",
              "bulk_sum            0\n",
              "Wire 1              0\n",
              "Wire 2              0\n",
              "Wire 3              0\n",
              "Wire 4              0\n",
              "Wire 5              0\n",
              "Wire 6              0\n",
              "Wire 7              0\n",
              "Wire 8              0\n",
              "Wire 9              0\n",
              "wire_sum            0\n",
              "gas                 0\n",
              "heating_time        0\n",
              "work                0\n",
              "dtype: int64"
            ]
          },
          "metadata": {
            "tags": []
          },
          "execution_count": 17
        }
      ]
    },
    {
      "cell_type": "markdown",
      "metadata": {
        "id": "w2LzYsvbB7Sq"
      },
      "source": [
        "### Проверим данные на коллинеарность."
      ]
    },
    {
      "cell_type": "code",
      "metadata": {
        "id": "YJXJFO6NB7Sq",
        "outputId": "434331cb-e66c-43c6-a732-e1b89f742605"
      },
      "source": [
        "corr_data = full_data[['first_a_power', 'first_r_power', 'last_a_power', 'last_r_power', \n",
        "                        'first_full_power', 'last_full_power', 'work']].corr()\n",
        "\n",
        "corr_data[corr_data > 0.95]"
      ],
      "execution_count": null,
      "outputs": [
        {
          "output_type": "execute_result",
          "data": {
            "text/html": [
              "<div>\n",
              "<style scoped>\n",
              "    .dataframe tbody tr th:only-of-type {\n",
              "        vertical-align: middle;\n",
              "    }\n",
              "\n",
              "    .dataframe tbody tr th {\n",
              "        vertical-align: top;\n",
              "    }\n",
              "\n",
              "    .dataframe thead th {\n",
              "        text-align: right;\n",
              "    }\n",
              "</style>\n",
              "<table border=\"1\" class=\"dataframe\">\n",
              "  <thead>\n",
              "    <tr style=\"text-align: right;\">\n",
              "      <th></th>\n",
              "      <th>first_a_power</th>\n",
              "      <th>first_r_power</th>\n",
              "      <th>last_a_power</th>\n",
              "      <th>last_r_power</th>\n",
              "      <th>first_full_power</th>\n",
              "      <th>last_full_power</th>\n",
              "      <th>work</th>\n",
              "    </tr>\n",
              "  </thead>\n",
              "  <tbody>\n",
              "    <tr>\n",
              "      <td>first_a_power</td>\n",
              "      <td>1.000000</td>\n",
              "      <td>0.97657</td>\n",
              "      <td>NaN</td>\n",
              "      <td>NaN</td>\n",
              "      <td>0.996478</td>\n",
              "      <td>NaN</td>\n",
              "      <td>NaN</td>\n",
              "    </tr>\n",
              "    <tr>\n",
              "      <td>first_r_power</td>\n",
              "      <td>0.976570</td>\n",
              "      <td>1.00000</td>\n",
              "      <td>NaN</td>\n",
              "      <td>NaN</td>\n",
              "      <td>0.991140</td>\n",
              "      <td>NaN</td>\n",
              "      <td>NaN</td>\n",
              "    </tr>\n",
              "    <tr>\n",
              "      <td>last_a_power</td>\n",
              "      <td>NaN</td>\n",
              "      <td>NaN</td>\n",
              "      <td>1.000000</td>\n",
              "      <td>NaN</td>\n",
              "      <td>NaN</td>\n",
              "      <td>0.992231</td>\n",
              "      <td>NaN</td>\n",
              "    </tr>\n",
              "    <tr>\n",
              "      <td>last_r_power</td>\n",
              "      <td>NaN</td>\n",
              "      <td>NaN</td>\n",
              "      <td>NaN</td>\n",
              "      <td>1.000000</td>\n",
              "      <td>NaN</td>\n",
              "      <td>0.980027</td>\n",
              "      <td>NaN</td>\n",
              "    </tr>\n",
              "    <tr>\n",
              "      <td>first_full_power</td>\n",
              "      <td>0.996478</td>\n",
              "      <td>0.99114</td>\n",
              "      <td>NaN</td>\n",
              "      <td>NaN</td>\n",
              "      <td>1.000000</td>\n",
              "      <td>NaN</td>\n",
              "      <td>NaN</td>\n",
              "    </tr>\n",
              "    <tr>\n",
              "      <td>last_full_power</td>\n",
              "      <td>NaN</td>\n",
              "      <td>NaN</td>\n",
              "      <td>0.992231</td>\n",
              "      <td>0.980027</td>\n",
              "      <td>NaN</td>\n",
              "      <td>1.000000</td>\n",
              "      <td>NaN</td>\n",
              "    </tr>\n",
              "    <tr>\n",
              "      <td>work</td>\n",
              "      <td>NaN</td>\n",
              "      <td>NaN</td>\n",
              "      <td>NaN</td>\n",
              "      <td>NaN</td>\n",
              "      <td>NaN</td>\n",
              "      <td>NaN</td>\n",
              "      <td>1.0</td>\n",
              "    </tr>\n",
              "  </tbody>\n",
              "</table>\n",
              "</div>"
            ],
            "text/plain": [
              "                  first_a_power  first_r_power  last_a_power  last_r_power  \\\n",
              "first_a_power          1.000000        0.97657           NaN           NaN   \n",
              "first_r_power          0.976570        1.00000           NaN           NaN   \n",
              "last_a_power                NaN            NaN      1.000000           NaN   \n",
              "last_r_power                NaN            NaN           NaN      1.000000   \n",
              "first_full_power       0.996478        0.99114           NaN           NaN   \n",
              "last_full_power             NaN            NaN      0.992231      0.980027   \n",
              "work                        NaN            NaN           NaN           NaN   \n",
              "\n",
              "                  first_full_power  last_full_power  work  \n",
              "first_a_power             0.996478              NaN   NaN  \n",
              "first_r_power             0.991140              NaN   NaN  \n",
              "last_a_power                   NaN         0.992231   NaN  \n",
              "last_r_power                   NaN         0.980027   NaN  \n",
              "first_full_power          1.000000              NaN   NaN  \n",
              "last_full_power                NaN         1.000000   NaN  \n",
              "work                           NaN              NaN   1.0  "
            ]
          },
          "metadata": {
            "tags": []
          },
          "execution_count": 18
        }
      ]
    },
    {
      "cell_type": "markdown",
      "metadata": {
        "id": "s1La7c06B7Sq"
      },
      "source": [
        "**У столбцов first_full_power и last_full_power сильная корреляция с другими столбцами. Что бы не получить проблему коллинеарности признаков, удалим эти столбцы.**"
      ]
    },
    {
      "cell_type": "code",
      "metadata": {
        "id": "iMkalxWmB7Sq"
      },
      "source": [
        "full_data = full_data.drop(['first_full_power', 'last_full_power'], axis='columns')"
      ],
      "execution_count": null,
      "outputs": []
    },
    {
      "cell_type": "markdown",
      "metadata": {
        "id": "8Sdzl2xcB7Sq"
      },
      "source": [
        "## 3. Подбор модели"
      ]
    },
    {
      "cell_type": "code",
      "metadata": {
        "id": "7DLTzgRNB7Sq",
        "outputId": "7630053b-9c91-4b8a-91d4-ee28cec3db7e"
      },
      "source": [
        "# Выделим целевой признак и признаки\n",
        "\n",
        "features = full_data.drop(['last_temp'], axis='columns')\n",
        "target = full_data['last_temp']\n",
        "\n",
        "\n",
        "# Разделим датасет на тренировочную, валидационную и тестовую выборки\n",
        "train_features, valid_features, train_target, valid_target = train_test_split(features, target, \n",
        "                                                                              test_size=0.2, random_state=123)\n",
        "\n",
        "valid_features, test_features, valid_target, test_target = train_test_split(valid_features, valid_target, \n",
        "                                                                            test_size=0.5, random_state=123)\n",
        "\n",
        "\n",
        "print(train_features.shape, valid_features.shape, test_features.shape, \n",
        "      train_target.shape, valid_target.shape, test_target.shape)"
      ],
      "execution_count": null,
      "outputs": [
        {
          "output_type": "stream",
          "text": [
            "(1863, 34) (233, 34) (233, 34) (1863,) (233,) (233,)\n"
          ],
          "name": "stdout"
        }
      ]
    },
    {
      "cell_type": "code",
      "metadata": {
        "id": "3C9g_svPB7Sq",
        "outputId": "b8cec84a-e787-4926-c57c-6ea1c02bc2d4"
      },
      "source": [
        "linear_model = LinearRegression()\n",
        "\n",
        "linear_model.fit(train_features, train_target)\n",
        "l_predictions = linear_model.predict(valid_features)\n",
        "mae = mean_absolute_error(l_predictions, valid_target)\n",
        "mae\n"
      ],
      "execution_count": null,
      "outputs": [
        {
          "output_type": "execute_result",
          "data": {
            "text/plain": [
              "7.063561200571469"
            ]
          },
          "metadata": {
            "tags": []
          },
          "execution_count": 21
        }
      ]
    },
    {
      "cell_type": "code",
      "metadata": {
        "id": "KdipMPC6B7Sq",
        "outputId": "27141ce5-e8f0-47e1-b8a1-fdcab602f241"
      },
      "source": [
        "%%time\n",
        "\n",
        "forest_model = RandomForestRegressor(n_estimators=1000, max_depth=10, random_state=42)\n",
        "forest_model.fit(train_features, train_target)\n",
        "f_predictions = forest_model.predict(valid_features)\n",
        "mae = mean_absolute_error(f_predictions, valid_target)\n",
        "mae"
      ],
      "execution_count": null,
      "outputs": [
        {
          "output_type": "stream",
          "text": [
            "CPU times: user 14.6 s, sys: 50.2 ms, total: 14.7 s\n",
            "Wall time: 14.8 s\n"
          ],
          "name": "stdout"
        },
        {
          "output_type": "execute_result",
          "data": {
            "text/plain": [
              "6.653361936324255"
            ]
          },
          "metadata": {
            "tags": []
          },
          "execution_count": 22
        }
      ]
    },
    {
      "cell_type": "code",
      "metadata": {
        "id": "KSs9vVXIB7Sq",
        "outputId": "c84a99ec-8055-4f56-f007-f39eb802e60e"
      },
      "source": [
        "%%time\n",
        "\n",
        "cat_boost_model = CatBoostRegressor(iterations=5000, \n",
        "                                    max_depth=4, \n",
        "                                    learning_rate=0.03, \n",
        "                                    loss_function='MAE',\n",
        "                                    leaf_estimation_method='Exact',\n",
        "                                    random_state=42)\n",
        "cat_boost_model.fit(train_features, train_target, verbose=500)\n",
        "c_predictions = cat_boost_model.predict(valid_features)\n",
        "mae = mean_absolute_error(c_predictions, valid_target)\n",
        "mae"
      ],
      "execution_count": null,
      "outputs": [
        {
          "output_type": "stream",
          "text": [
            "0:\tlearn: 8.0555814\ttotal: 49ms\tremaining: 4m 4s\n",
            "500:\tlearn: 5.5573950\ttotal: 5.91s\tremaining: 53.1s\n",
            "1000:\tlearn: 4.9526587\ttotal: 12.1s\tremaining: 48.5s\n",
            "1500:\tlearn: 4.5963207\ttotal: 18.3s\tremaining: 42.6s\n",
            "2000:\tlearn: 4.3435765\ttotal: 24.3s\tremaining: 36.5s\n",
            "2500:\tlearn: 4.1518775\ttotal: 30.4s\tremaining: 30.4s\n",
            "3000:\tlearn: 4.0103574\ttotal: 36.5s\tremaining: 24.3s\n",
            "3500:\tlearn: 3.8898003\ttotal: 42.6s\tremaining: 18.3s\n",
            "4000:\tlearn: 3.7888091\ttotal: 48.7s\tremaining: 12.2s\n",
            "4500:\tlearn: 3.6933915\ttotal: 54.7s\tremaining: 6.07s\n",
            "4999:\tlearn: 3.6081929\ttotal: 1m\tremaining: 0us\n",
            "CPU times: user 55.3 s, sys: 6.67 s, total: 1min 1s\n",
            "Wall time: 1min 4s\n"
          ],
          "name": "stdout"
        },
        {
          "output_type": "execute_result",
          "data": {
            "text/plain": [
              "6.62872874050076"
            ]
          },
          "metadata": {
            "tags": []
          },
          "execution_count": 23
        }
      ]
    },
    {
      "cell_type": "markdown",
      "metadata": {
        "id": "uLtFOVD9B7Sr"
      },
      "source": [
        "Лучшие показатели у катбуст. Проверим модель на тестовой выборке."
      ]
    },
    {
      "cell_type": "code",
      "metadata": {
        "id": "V51-n2NBB7Sr",
        "outputId": "0e62e979-21a0-4a74-fab3-ac64781e9327"
      },
      "source": [
        "test_predictions = cat_boost_model.predict(test_features)\n",
        "mae = mean_absolute_error(test_predictions, test_target)\n",
        "mae"
      ],
      "execution_count": null,
      "outputs": [
        {
          "output_type": "execute_result",
          "data": {
            "text/plain": [
              "6.441537274659712"
            ]
          },
          "metadata": {
            "tags": []
          },
          "execution_count": 24
        }
      ]
    },
    {
      "cell_type": "markdown",
      "metadata": {
        "id": "iZKE4HKTB7Sr"
      },
      "source": [
        "**Построим граффик важности факторов**"
      ]
    },
    {
      "cell_type": "code",
      "metadata": {
        "id": "XF0aZbXtB7Sr",
        "outputId": "e4dcc706-ce0e-485a-aec9-95aef1b82a53"
      },
      "source": [
        "importances = forest_model.feature_importances_\n",
        "std = np.std([forest_model.feature_importances_ for tree in forest_model.estimators_],\n",
        "             axis=0)\n",
        "indices = np.argsort(importances)[::-1]\n",
        "\n",
        "# Значения важности факторов.\n",
        "print(\"Feature ranking:\")\n",
        "\n",
        "for f in range(train_features.shape[1]):\n",
        "    print(train_features.columns[indices[f]],\" - \", importances[indices[f]])\n",
        "    \n",
        "\n",
        "# Построим график.\n",
        "plt.figure(figsize=(12,4), dpi = 70)\n",
        "plt.title(\"Feature importances\")\n",
        "plt.bar(range(train_features.shape[1]), importances[indices],\n",
        "        color=\"r\", yerr=std[indices], align=\"center\")\n",
        "plt.xticks(range(train_features.shape[1]), train_features.columns, rotation=90)\n",
        "plt.xlim([-1, train_features.shape[1]])\n",
        "plt.show()"
      ],
      "execution_count": null,
      "outputs": [
        {
          "output_type": "stream",
          "text": [
            "Feature ranking:\n",
            "Wire 1  -  0.11530767893788592\n",
            "first_temp  -  0.11295717456968697\n",
            "heating_time  -  0.08353740477536176\n",
            "Bulk 6  -  0.07034458649730513\n",
            "Bulk 15  -  0.06012828304020798\n",
            "bulk_sum  -  0.05783960700059897\n",
            "Bulk 14  -  0.05441668012278281\n",
            "Wire 2  -  0.05430268370823518\n",
            "Bulk 12  -  0.051446124847876105\n",
            "gas  -  0.04500789641334598\n",
            "work  -  0.03887470796690901\n",
            "Bulk 7  -  0.036058712709545276\n",
            "last_a_power  -  0.031450647351914655\n",
            "wire_sum  -  0.030872909319904013\n",
            "first_r_power  -  0.023245837829494086\n",
            "first_a_power  -  0.022361648713546938\n",
            "last_r_power  -  0.02092061356665996\n",
            "Bulk 1  -  0.01654060037461994\n",
            "Wire 4  -  0.015329031850843554\n",
            "Bulk 3  -  0.01468519948440611\n",
            "Bulk 4  -  0.01256556365053046\n",
            "Wire 6  -  0.007415659719562729\n",
            "Bulk 11  -  0.007157582538585175\n",
            "Wire 7  -  0.004973895839181416\n",
            "Wire 3  -  0.0036359112072953826\n",
            "Bulk 2  -  0.0030926988068698904\n",
            "Bulk 10  -  0.002293685609031017\n",
            "Bulk 5  -  0.0017459479713132398\n",
            "Bulk 13  -  0.0008679129888897216\n",
            "Wire 9  -  0.0003300935223637513\n",
            "Wire 8  -  0.00016281205882378425\n",
            "Bulk 9  -  0.00011197638914626167\n",
            "Bulk 8  -  1.823061727688672e-05\n",
            "Wire 5  -  0.0\n"
          ],
          "name": "stdout"
        },
        {
          "output_type": "display_data",
          "data": {
            "image/png": "[encoded data removed]",
            "text/plain": [
              "<Figure size 840x280 with 1 Axes>"
            ]
          },
          "metadata": {
            "tags": [],
            "needs_background": "light"
          }
        }
      ]
    },
    {
      "cell_type": "markdown",
      "metadata": {
        "id": "oGnSyfGMB7Sr"
      },
      "source": [
        "# 4. Выводы"
      ]
    },
    {
      "cell_type": "markdown",
      "metadata": {
        "id": "lbfymhl-B7Sr"
      },
      "source": [
        "Перед началом работы мною были определены 3 этапа. Все этапы были выполнены. Главной трудностью, на мой взгляд, была подготовка признаков из-за небольшого объема данных и многочисленных пропусков в них. Эти проблемы я решил путем удаления пропусков там, где невозможно объяснить их проис хождение и заполнением пропусков на 0 в остальных случаях. Так же я добавил новые признаки, такие как время нагрева, полная мощность, работа,  основанные на исходных данных.\n",
        "\n",
        "Были выделены следующие ключевые шаги:\n",
        "- Загрузка данных.\n",
        "- Предобработка данных: удаление и заполнение пропусков, поиск выбросов в данных.\n",
        "- Создание новых признаков.\n",
        "- Объединение данных в единую таблицу и разделение на пизнаки и целевой признак.\n",
        "- Тестирование нескольких моделей и выбор лучшей.\n",
        "- Настройка параметров лучшей модели для получения оптимального значения метрики качества.\n",
        "- Проверка модели на тестовой выборке\n",
        "\n",
        "Наилучший результат показала модель **CatBoost**. Значение метрики **MAE - 6.44**"
      ]
    }
  ]
}