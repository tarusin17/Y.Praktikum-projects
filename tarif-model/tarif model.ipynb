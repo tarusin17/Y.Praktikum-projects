{
 "cells": [
  {
   "cell_type": "markdown",
   "metadata": {},
   "source": [
    "# Рекомендация тарифов"
   ]
  },
  {
   "cell_type": "markdown",
   "metadata": {},
   "source": [
    "В нашем распоряжении данные о поведении клиентов, которые уже перешли на эти тарифы. Нужно построить модель для задачи классификации, которая выберет подходящий тариф. Предобработка данных уже сделана.\n",
    "\n",
    "Минимальное значение *accuracy*, подходящее для заказчика = 0.75."
   ]
  },
  {
   "cell_type": "markdown",
   "metadata": {},
   "source": [
    "## 1. Изучение данных."
   ]
  },
  {
   "cell_type": "code",
   "execution_count": 1,
   "metadata": {},
   "outputs": [],
   "source": [
    "#импортируем библиотеки, которые нам потребуются.\n",
    "import pandas as pd\n",
    "from sklearn.tree import DecisionTreeClassifier\n",
    "from sklearn.ensemble import RandomForestClassifier\n",
    "from sklearn.linear_model import LogisticRegression\n",
    "from sklearn.model_selection import train_test_split, cross_val_score\n",
    "from sklearn.metrics import accuracy_score\n",
    "from sklearn.dummy import DummyClassifier\n",
    "\n",
    "import warnings\n",
    "warnings.filterwarnings(\"ignore\")"
   ]
  },
  {
   "cell_type": "code",
   "execution_count": 2,
   "metadata": {},
   "outputs": [
    {
     "name": "stdout",
     "output_type": "stream",
     "text": [
      "<class 'pandas.core.frame.DataFrame'>\n",
      "RangeIndex: 3214 entries, 0 to 3213\n",
      "Data columns (total 5 columns):\n",
      "calls       3214 non-null float64\n",
      "minutes     3214 non-null float64\n",
      "messages    3214 non-null float64\n",
      "mb_used     3214 non-null float64\n",
      "is_ultra    3214 non-null int64\n",
      "dtypes: float64(4), int64(1)\n",
      "memory usage: 125.7 KB\n",
      "None\n"
     ]
    },
    {
     "data": {
      "text/html": [
       "<div>\n",
       "<style scoped>\n",
       "    .dataframe tbody tr th:only-of-type {\n",
       "        vertical-align: middle;\n",
       "    }\n",
       "\n",
       "    .dataframe tbody tr th {\n",
       "        vertical-align: top;\n",
       "    }\n",
       "\n",
       "    .dataframe thead th {\n",
       "        text-align: right;\n",
       "    }\n",
       "</style>\n",
       "<table border=\"1\" class=\"dataframe\">\n",
       "  <thead>\n",
       "    <tr style=\"text-align: right;\">\n",
       "      <th></th>\n",
       "      <th>calls</th>\n",
       "      <th>minutes</th>\n",
       "      <th>messages</th>\n",
       "      <th>mb_used</th>\n",
       "      <th>is_ultra</th>\n",
       "    </tr>\n",
       "  </thead>\n",
       "  <tbody>\n",
       "    <tr>\n",
       "      <td>0</td>\n",
       "      <td>40.0</td>\n",
       "      <td>311.90</td>\n",
       "      <td>83.0</td>\n",
       "      <td>19915.42</td>\n",
       "      <td>0</td>\n",
       "    </tr>\n",
       "    <tr>\n",
       "      <td>1</td>\n",
       "      <td>85.0</td>\n",
       "      <td>516.75</td>\n",
       "      <td>56.0</td>\n",
       "      <td>22696.96</td>\n",
       "      <td>0</td>\n",
       "    </tr>\n",
       "    <tr>\n",
       "      <td>2</td>\n",
       "      <td>77.0</td>\n",
       "      <td>467.66</td>\n",
       "      <td>86.0</td>\n",
       "      <td>21060.45</td>\n",
       "      <td>0</td>\n",
       "    </tr>\n",
       "    <tr>\n",
       "      <td>3</td>\n",
       "      <td>106.0</td>\n",
       "      <td>745.53</td>\n",
       "      <td>81.0</td>\n",
       "      <td>8437.39</td>\n",
       "      <td>1</td>\n",
       "    </tr>\n",
       "    <tr>\n",
       "      <td>4</td>\n",
       "      <td>66.0</td>\n",
       "      <td>418.74</td>\n",
       "      <td>1.0</td>\n",
       "      <td>14502.75</td>\n",
       "      <td>0</td>\n",
       "    </tr>\n",
       "    <tr>\n",
       "      <td>5</td>\n",
       "      <td>58.0</td>\n",
       "      <td>344.56</td>\n",
       "      <td>21.0</td>\n",
       "      <td>15823.37</td>\n",
       "      <td>0</td>\n",
       "    </tr>\n",
       "    <tr>\n",
       "      <td>6</td>\n",
       "      <td>57.0</td>\n",
       "      <td>431.64</td>\n",
       "      <td>20.0</td>\n",
       "      <td>3738.90</td>\n",
       "      <td>1</td>\n",
       "    </tr>\n",
       "    <tr>\n",
       "      <td>7</td>\n",
       "      <td>15.0</td>\n",
       "      <td>132.40</td>\n",
       "      <td>6.0</td>\n",
       "      <td>21911.60</td>\n",
       "      <td>0</td>\n",
       "    </tr>\n",
       "    <tr>\n",
       "      <td>8</td>\n",
       "      <td>7.0</td>\n",
       "      <td>43.39</td>\n",
       "      <td>3.0</td>\n",
       "      <td>2538.67</td>\n",
       "      <td>1</td>\n",
       "    </tr>\n",
       "    <tr>\n",
       "      <td>9</td>\n",
       "      <td>90.0</td>\n",
       "      <td>665.41</td>\n",
       "      <td>38.0</td>\n",
       "      <td>17358.61</td>\n",
       "      <td>0</td>\n",
       "    </tr>\n",
       "  </tbody>\n",
       "</table>\n",
       "</div>"
      ],
      "text/plain": [
       "   calls  minutes  messages   mb_used  is_ultra\n",
       "0   40.0   311.90      83.0  19915.42         0\n",
       "1   85.0   516.75      56.0  22696.96         0\n",
       "2   77.0   467.66      86.0  21060.45         0\n",
       "3  106.0   745.53      81.0   8437.39         1\n",
       "4   66.0   418.74       1.0  14502.75         0\n",
       "5   58.0   344.56      21.0  15823.37         0\n",
       "6   57.0   431.64      20.0   3738.90         1\n",
       "7   15.0   132.40       6.0  21911.60         0\n",
       "8    7.0    43.39       3.0   2538.67         1\n",
       "9   90.0   665.41      38.0  17358.61         0"
      ]
     },
     "execution_count": 2,
     "metadata": {},
     "output_type": "execute_result"
    }
   ],
   "source": [
    "df = pd.read_csv('/datasets/users_behavior.csv')\n",
    "print(df.info())\n",
    "df.head(10)"
   ]
  },
  {
   "cell_type": "markdown",
   "metadata": {},
   "source": [
    "Данная задача относится к класу \"Обучение с учителем\". Целевым признаком будет являтся столбец \"is_ultra\". Так как он принимает только два значения, перед нами задача классификации. "
   ]
  },
  {
   "cell_type": "markdown",
   "metadata": {},
   "source": [
    "## 2. Разбиваем данные на выборки"
   ]
  },
  {
   "cell_type": "code",
   "execution_count": 3,
   "metadata": {},
   "outputs": [],
   "source": [
    "df_train, new_df = train_test_split(df, test_size=0.4, random_state=42)\n",
    "df_valid, df_test = train_test_split(new_df, test_size=0.5, random_state=42)"
   ]
  },
  {
   "cell_type": "code",
   "execution_count": 4,
   "metadata": {},
   "outputs": [
    {
     "name": "stdout",
     "output_type": "stream",
     "text": [
      "<class 'pandas.core.frame.DataFrame'>\n",
      "Int64Index: 1928 entries, 2369 to 3174\n",
      "Data columns (total 5 columns):\n",
      "calls       1928 non-null float64\n",
      "minutes     1928 non-null float64\n",
      "messages    1928 non-null float64\n",
      "mb_used     1928 non-null float64\n",
      "is_ultra    1928 non-null int64\n",
      "dtypes: float64(4), int64(1)\n",
      "memory usage: 90.4 KB\n",
      "None\n",
      "\n",
      "<class 'pandas.core.frame.DataFrame'>\n",
      "Int64Index: 643 entries, 1198 to 1510\n",
      "Data columns (total 5 columns):\n",
      "calls       643 non-null float64\n",
      "minutes     643 non-null float64\n",
      "messages    643 non-null float64\n",
      "mb_used     643 non-null float64\n",
      "is_ultra    643 non-null int64\n",
      "dtypes: float64(4), int64(1)\n",
      "memory usage: 30.1 KB\n",
      "None\n",
      "\n",
      "<class 'pandas.core.frame.DataFrame'>\n",
      "Int64Index: 643 entries, 1545 to 283\n",
      "Data columns (total 5 columns):\n",
      "calls       643 non-null float64\n",
      "minutes     643 non-null float64\n",
      "messages    643 non-null float64\n",
      "mb_used     643 non-null float64\n",
      "is_ultra    643 non-null int64\n",
      "dtypes: float64(4), int64(1)\n",
      "memory usage: 30.1 KB\n",
      "None\n"
     ]
    }
   ],
   "source": [
    "print(df_train.info())\n",
    "print()\n",
    "print(df_valid.info())\n",
    "print()\n",
    "print(df_test.info())\n"
   ]
  },
  {
   "cell_type": "markdown",
   "metadata": {},
   "source": [
    "Разобьем исходные данные на три выборки: \n",
    "- тренировочная выборка - 60% от исходной\n",
    "- валидационая выборка - 20% от исходной\n",
    "- тестовая выборка - 20% от исходной."
   ]
  },
  {
   "cell_type": "markdown",
   "metadata": {},
   "source": [
    "## 3. Исследуйте модели"
   ]
  },
  {
   "cell_type": "markdown",
   "metadata": {},
   "source": [
    "#### Рассмотрим три модели машинного обучения: \"Дерево решений\", \"Случайный лес\" и \"Логистическая регрессия\"."
   ]
  },
  {
   "cell_type": "code",
   "execution_count": 5,
   "metadata": {},
   "outputs": [],
   "source": [
    "train_features = df_train.drop('is_ultra', axis=1)\n",
    "train_target = df_train['is_ultra']\n",
    "valid_features = df_valid.drop('is_ultra', axis=1)\n",
    "valid_target = df_valid['is_ultra']\n",
    "\n",
    "# Выделим признаки и целевой признак для тестовой и валидационной выборок"
   ]
  },
  {
   "cell_type": "markdown",
   "metadata": {},
   "source": [
    "##### 1.  Дерево решений"
   ]
  },
  {
   "cell_type": "code",
   "execution_count": 6,
   "metadata": {},
   "outputs": [
    {
     "name": "stdout",
     "output_type": "stream",
     "text": [
      "При глубине дерева 1 accuracy = 0.7309486780715396\n",
      "При глубине дерева 2 accuracy = 0.7822706065318819\n",
      "При глубине дерева 3 accuracy = 0.7916018662519441\n",
      "При глубине дерева 4 accuracy = 0.7807153965785381\n",
      "При глубине дерева 5 accuracy = 0.7729393468118196\n",
      "При глубине дерева 6 accuracy = 0.776049766718507\n",
      "При глубине дерева 7 accuracy = 0.7807153965785381\n",
      "При глубине дерева 8 accuracy = 0.7962674961119751\n",
      "При глубине дерева 9 accuracy = 0.7807153965785381\n"
     ]
    }
   ],
   "source": [
    "for i in range(1, 10):\n",
    "    tree_model = DecisionTreeClassifier(random_state=42, max_depth=i)\n",
    "    tree_model.fit(train_features, train_target)\n",
    "    tree_prediction = tree_model.predict(valid_features)\n",
    "    tree_accuracy = accuracy_score(valid_target, tree_prediction)\n",
    "    print('При глубине дерева', i, 'accuracy =', tree_accuracy)\n",
    "    "
   ]
  },
  {
   "cell_type": "markdown",
   "metadata": {},
   "source": [
    "##### 2. Случайный лес "
   ]
  },
  {
   "cell_type": "code",
   "execution_count": 7,
   "metadata": {},
   "outputs": [
    {
     "name": "stdout",
     "output_type": "stream",
     "text": [
      "При количестве деревьев = 10 и глубине дерева = 4 accuracy = 0.7993779160186625\n",
      "При количестве деревьев = 10 и глубине дерева = 6 accuracy = 0.8040435458786936\n",
      "При количестве деревьев = 10 и глубине дерева = 8 accuracy = 0.8055987558320373\n",
      "При количестве деревьев = 20 и глубине дерева = 4 accuracy = 0.7900466562986003\n",
      "При количестве деревьев = 20 и глубине дерева = 6 accuracy = 0.7978227060653188\n",
      "При количестве деревьев = 20 и глубине дерева = 8 accuracy = 0.7993779160186625\n",
      "При количестве деревьев = 30 и глубине дерева = 4 accuracy = 0.7900466562986003\n",
      "При количестве деревьев = 30 и глубине дерева = 6 accuracy = 0.7853810264385692\n",
      "При количестве деревьев = 30 и глубине дерева = 8 accuracy = 0.8009331259720062\n"
     ]
    }
   ],
   "source": [
    "for i in range(10, 40, 10):\n",
    "    for n in range(4,9,2):\n",
    "        forest_model = RandomForestClassifier(random_state=42, n_estimators=i, max_depth=n)\n",
    "        forest_model.fit(train_features, train_target)\n",
    "        forest_prediction = forest_model.predict(valid_features)\n",
    "        forest_accuracy = accuracy_score(valid_target, forest_prediction)\n",
    "        print('При количестве деревьев =', i, 'и глубине дерева =', n, 'accuracy =', forest_accuracy)\n",
    "       "
   ]
  },
  {
   "cell_type": "markdown",
   "metadata": {},
   "source": [
    "##### 3. Логистическая регрессия"
   ]
  },
  {
   "cell_type": "code",
   "execution_count": 8,
   "metadata": {},
   "outputs": [
    {
     "name": "stdout",
     "output_type": "stream",
     "text": [
      "При Логистической регрессии accuracy = 0.7200622083981337\n"
     ]
    }
   ],
   "source": [
    "regression_model = LogisticRegression(random_state=42)\n",
    "regression_model.fit(train_features, train_target)\n",
    "regression_prediction = regression_model.predict(valid_features)\n",
    "regression_accuracy = accuracy_score(valid_target, regression_prediction)\n",
    "print('При Логистической регрессии accuracy =', regression_accuracy)"
   ]
  },
  {
   "cell_type": "markdown",
   "metadata": {},
   "source": [
    "### Вывод.\n",
    "\n",
    "Опробовав три разные модели обучения на наших данных приходим к следующим выводам:\n",
    "- У логистической регрессии наименьшая доля правильных ответов.\n",
    "- У дерева решений не самая плохая доля правльных ответов, но эта модель склонна к переобучению, особенно при большой глубине дерева.\n",
    "- Наилучшая доля правильных ответов у случайного леса. При количестве деревье 10 и 30 доля правильных ответов равна 0.8. \n",
    "\n",
    "В качестве финальной модели выберем случайный лес с гиперпараметрами: количество деревьев = 10, глубина дерева = 6. Такие параметры выбраны, так как при них будет наименьшее время обучения, но, при этом, доля правильных ответов не уменьшается."
   ]
  },
  {
   "cell_type": "markdown",
   "metadata": {},
   "source": [
    "## 4. Проверка модели на тестовой выборке"
   ]
  },
  {
   "cell_type": "code",
   "execution_count": 9,
   "metadata": {},
   "outputs": [],
   "source": [
    "test_features = df_test.drop('is_ultra', axis=1)\n",
    "test_target = df_test['is_ultra']"
   ]
  },
  {
   "cell_type": "code",
   "execution_count": 10,
   "metadata": {},
   "outputs": [
    {
     "name": "stdout",
     "output_type": "stream",
     "text": [
      "Accuracy = 0.8304821150855366\n"
     ]
    }
   ],
   "source": [
    "forest_model = RandomForestClassifier(random_state=42, n_estimators=10, max_depth=6)\n",
    "forest_model.fit(train_features, train_target)\n",
    "forest_prediction = forest_model.predict(test_features)\n",
    "forest_accuracy = accuracy_score(test_target, forest_prediction)\n",
    "print('Accuracy =', forest_accuracy)"
   ]
  },
  {
   "cell_type": "markdown",
   "metadata": {},
   "source": [
    "#### Вывод.\n",
    "Проверив нашу модель на тестовых данных мы получили долю правельных ответов = 83%. Для данной задачи этого процента хватает. \n",
    "Возможно мы могли бы увеличить этот процент, если бы обучающая выборка была больше.\n"
   ]
  },
  {
   "cell_type": "markdown",
   "metadata": {},
   "source": [
    "## 5. Проверка модели на адекватность"
   ]
  },
  {
   "cell_type": "code",
   "execution_count": 11,
   "metadata": {},
   "outputs": [
    {
     "name": "stdout",
     "output_type": "stream",
     "text": [
      "Для стратегии most_frequent средняя точность = 0.6924273858921162\n",
      "Для стратегии stratified средняя точность = 0.58298755186722\n",
      "Для стратегии uniform средняя точность = 0.5036307053941909\n",
      "Для стратегии prior средняя точность = 0.6924273858921162\n"
     ]
    }
   ],
   "source": [
    "strategies = ['most_frequent', 'stratified', 'uniform', 'prior'] \n",
    "for name in strategies:\n",
    "    dummy_model = DummyClassifier(random_state=42, strategy=name)\n",
    "    dummy_model.fit(train_features, train_target)\n",
    "    score = dummy_model.score(train_features, train_target)\n",
    "    print('Для стратегии', name, 'средняя точность =', score)\n",
    "    "
   ]
  },
  {
   "cell_type": "markdown",
   "metadata": {},
   "source": [
    "## Вывод. \n",
    "Проверив наши данныне используя DummyClassifier, мы видим, что значение \"accuracy\" у нашей модели значительно выше, чем у DummyClassifier. Из этого делаем вывод, что предсказания нашей модели адекватны."
   ]
  }
 ],
 "metadata": {
  "kernelspec": {
   "display_name": "Python 3",
   "language": "python",
   "name": "python3"
  },
  "language_info": {
   "codemirror_mode": {
    "name": "ipython",
    "version": 3
   },
   "file_extension": ".py",
   "mimetype": "text/x-python",
   "name": "python",
   "nbconvert_exporter": "python",
   "pygments_lexer": "ipython3",
   "version": "3.7.4"
  }
 },
 "nbformat": 4,
 "nbformat_minor": 2
}
