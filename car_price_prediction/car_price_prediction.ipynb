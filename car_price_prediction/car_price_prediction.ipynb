{
  "nbformat": 4,
  "nbformat_minor": 0,
  "metadata": {
    "kernelspec": {
      "display_name": "Python 3",
      "language": "python",
      "name": "python3"
    },
    "language_info": {
      "codemirror_mode": {
        "name": "ipython",
        "version": 3
      },
      "file_extension": ".py",
      "mimetype": "text/x-python",
      "name": "python",
      "nbconvert_exporter": "python",
      "pygments_lexer": "ipython3",
      "version": "3.7.4"
    },
    "colab": {
      "name": "578283bc-1fcc-49dd-af05-1698d71a2c7d.ipynb",
      "provenance": [],
      "collapsed_sections": []
    }
  },
  "cells": [
    {
      "cell_type": "markdown",
      "metadata": {
        "id": "aG-SaPqeJe79",
        "colab_type": "text"
      },
      "source": [
        "Сервис по продаже автомобилей с пробегом «Не бит, не крашен» разрабатывает приложение для привлечения новых клиентов. В нём можно быстро узнать рыночную стоимость своего автомобиля. В нашем распоряжении исторические данные: технические характеристики, комплектации и цены автомобилей. Нужно построить модель для определения стоимости. \n",
        "\n",
        "\n",
        "Заказчику важны:\n",
        "\n",
        "- качество предсказания;\n",
        "- скорость предсказания;\n",
        "- время обучения."
      ]
    },
    {
      "cell_type": "markdown",
      "metadata": {
        "id": "3h9CubAEJe8B",
        "colab_type": "text"
      },
      "source": [
        "# 1. Подготовка данных"
      ]
    },
    {
      "cell_type": "code",
      "metadata": {
        "id": "03MfEe_NJe8H",
        "colab_type": "code",
        "colab": {}
      },
      "source": [
        "import pandas as pd\n",
        "import  numpy as np\n",
        "import matplotlib.pyplot as plt\n",
        "import seaborn as sns\n",
        "from sklearn.model_selection import train_test_split\n",
        "from catboost import CatBoostRegressor\n",
        "from lightgbm.sklearn import LGBMRegressor\n",
        "from sklearn.metrics import mean_squared_error\n",
        "from sklearn.linear_model import LinearRegression\n",
        "\n",
        "import warnings\n",
        "warnings.filterwarnings(\"ignore\")"
      ],
      "execution_count": null,
      "outputs": []
    },
    {
      "cell_type": "code",
      "metadata": {
        "id": "r3WIeHbdJe8b",
        "colab_type": "code",
        "colab": {},
        "outputId": "84107312-1c75-4dfa-c67b-32dcc3d01425"
      },
      "source": [
        "df = pd.read_csv('/datasets/autos.csv')\n",
        "df.head(10)"
      ],
      "execution_count": null,
      "outputs": [
        {
          "output_type": "execute_result",
          "data": {
            "text/html": [
              "<div>\n",
              "<style scoped>\n",
              "    .dataframe tbody tr th:only-of-type {\n",
              "        vertical-align: middle;\n",
              "    }\n",
              "\n",
              "    .dataframe tbody tr th {\n",
              "        vertical-align: top;\n",
              "    }\n",
              "\n",
              "    .dataframe thead th {\n",
              "        text-align: right;\n",
              "    }\n",
              "</style>\n",
              "<table border=\"1\" class=\"dataframe\">\n",
              "  <thead>\n",
              "    <tr style=\"text-align: right;\">\n",
              "      <th></th>\n",
              "      <th>DateCrawled</th>\n",
              "      <th>Price</th>\n",
              "      <th>VehicleType</th>\n",
              "      <th>RegistrationYear</th>\n",
              "      <th>Gearbox</th>\n",
              "      <th>Power</th>\n",
              "      <th>Model</th>\n",
              "      <th>Kilometer</th>\n",
              "      <th>RegistrationMonth</th>\n",
              "      <th>FuelType</th>\n",
              "      <th>Brand</th>\n",
              "      <th>NotRepaired</th>\n",
              "      <th>DateCreated</th>\n",
              "      <th>NumberOfPictures</th>\n",
              "      <th>PostalCode</th>\n",
              "      <th>LastSeen</th>\n",
              "    </tr>\n",
              "  </thead>\n",
              "  <tbody>\n",
              "    <tr>\n",
              "      <td>0</td>\n",
              "      <td>2016-03-24 11:52:17</td>\n",
              "      <td>480</td>\n",
              "      <td>NaN</td>\n",
              "      <td>1993</td>\n",
              "      <td>manual</td>\n",
              "      <td>0</td>\n",
              "      <td>golf</td>\n",
              "      <td>150000</td>\n",
              "      <td>0</td>\n",
              "      <td>petrol</td>\n",
              "      <td>volkswagen</td>\n",
              "      <td>NaN</td>\n",
              "      <td>2016-03-24 00:00:00</td>\n",
              "      <td>0</td>\n",
              "      <td>70435</td>\n",
              "      <td>2016-04-07 03:16:57</td>\n",
              "    </tr>\n",
              "    <tr>\n",
              "      <td>1</td>\n",
              "      <td>2016-03-24 10:58:45</td>\n",
              "      <td>18300</td>\n",
              "      <td>coupe</td>\n",
              "      <td>2011</td>\n",
              "      <td>manual</td>\n",
              "      <td>190</td>\n",
              "      <td>NaN</td>\n",
              "      <td>125000</td>\n",
              "      <td>5</td>\n",
              "      <td>gasoline</td>\n",
              "      <td>audi</td>\n",
              "      <td>yes</td>\n",
              "      <td>2016-03-24 00:00:00</td>\n",
              "      <td>0</td>\n",
              "      <td>66954</td>\n",
              "      <td>2016-04-07 01:46:50</td>\n",
              "    </tr>\n",
              "    <tr>\n",
              "      <td>2</td>\n",
              "      <td>2016-03-14 12:52:21</td>\n",
              "      <td>9800</td>\n",
              "      <td>suv</td>\n",
              "      <td>2004</td>\n",
              "      <td>auto</td>\n",
              "      <td>163</td>\n",
              "      <td>grand</td>\n",
              "      <td>125000</td>\n",
              "      <td>8</td>\n",
              "      <td>gasoline</td>\n",
              "      <td>jeep</td>\n",
              "      <td>NaN</td>\n",
              "      <td>2016-03-14 00:00:00</td>\n",
              "      <td>0</td>\n",
              "      <td>90480</td>\n",
              "      <td>2016-04-05 12:47:46</td>\n",
              "    </tr>\n",
              "    <tr>\n",
              "      <td>3</td>\n",
              "      <td>2016-03-17 16:54:04</td>\n",
              "      <td>1500</td>\n",
              "      <td>small</td>\n",
              "      <td>2001</td>\n",
              "      <td>manual</td>\n",
              "      <td>75</td>\n",
              "      <td>golf</td>\n",
              "      <td>150000</td>\n",
              "      <td>6</td>\n",
              "      <td>petrol</td>\n",
              "      <td>volkswagen</td>\n",
              "      <td>no</td>\n",
              "      <td>2016-03-17 00:00:00</td>\n",
              "      <td>0</td>\n",
              "      <td>91074</td>\n",
              "      <td>2016-03-17 17:40:17</td>\n",
              "    </tr>\n",
              "    <tr>\n",
              "      <td>4</td>\n",
              "      <td>2016-03-31 17:25:20</td>\n",
              "      <td>3600</td>\n",
              "      <td>small</td>\n",
              "      <td>2008</td>\n",
              "      <td>manual</td>\n",
              "      <td>69</td>\n",
              "      <td>fabia</td>\n",
              "      <td>90000</td>\n",
              "      <td>7</td>\n",
              "      <td>gasoline</td>\n",
              "      <td>skoda</td>\n",
              "      <td>no</td>\n",
              "      <td>2016-03-31 00:00:00</td>\n",
              "      <td>0</td>\n",
              "      <td>60437</td>\n",
              "      <td>2016-04-06 10:17:21</td>\n",
              "    </tr>\n",
              "    <tr>\n",
              "      <td>5</td>\n",
              "      <td>2016-04-04 17:36:23</td>\n",
              "      <td>650</td>\n",
              "      <td>sedan</td>\n",
              "      <td>1995</td>\n",
              "      <td>manual</td>\n",
              "      <td>102</td>\n",
              "      <td>3er</td>\n",
              "      <td>150000</td>\n",
              "      <td>10</td>\n",
              "      <td>petrol</td>\n",
              "      <td>bmw</td>\n",
              "      <td>yes</td>\n",
              "      <td>2016-04-04 00:00:00</td>\n",
              "      <td>0</td>\n",
              "      <td>33775</td>\n",
              "      <td>2016-04-06 19:17:07</td>\n",
              "    </tr>\n",
              "    <tr>\n",
              "      <td>6</td>\n",
              "      <td>2016-04-01 20:48:51</td>\n",
              "      <td>2200</td>\n",
              "      <td>convertible</td>\n",
              "      <td>2004</td>\n",
              "      <td>manual</td>\n",
              "      <td>109</td>\n",
              "      <td>2_reihe</td>\n",
              "      <td>150000</td>\n",
              "      <td>8</td>\n",
              "      <td>petrol</td>\n",
              "      <td>peugeot</td>\n",
              "      <td>no</td>\n",
              "      <td>2016-04-01 00:00:00</td>\n",
              "      <td>0</td>\n",
              "      <td>67112</td>\n",
              "      <td>2016-04-05 18:18:39</td>\n",
              "    </tr>\n",
              "    <tr>\n",
              "      <td>7</td>\n",
              "      <td>2016-03-21 18:54:38</td>\n",
              "      <td>0</td>\n",
              "      <td>sedan</td>\n",
              "      <td>1980</td>\n",
              "      <td>manual</td>\n",
              "      <td>50</td>\n",
              "      <td>other</td>\n",
              "      <td>40000</td>\n",
              "      <td>7</td>\n",
              "      <td>petrol</td>\n",
              "      <td>volkswagen</td>\n",
              "      <td>no</td>\n",
              "      <td>2016-03-21 00:00:00</td>\n",
              "      <td>0</td>\n",
              "      <td>19348</td>\n",
              "      <td>2016-03-25 16:47:58</td>\n",
              "    </tr>\n",
              "    <tr>\n",
              "      <td>8</td>\n",
              "      <td>2016-04-04 23:42:13</td>\n",
              "      <td>14500</td>\n",
              "      <td>bus</td>\n",
              "      <td>2014</td>\n",
              "      <td>manual</td>\n",
              "      <td>125</td>\n",
              "      <td>c_max</td>\n",
              "      <td>30000</td>\n",
              "      <td>8</td>\n",
              "      <td>petrol</td>\n",
              "      <td>ford</td>\n",
              "      <td>NaN</td>\n",
              "      <td>2016-04-04 00:00:00</td>\n",
              "      <td>0</td>\n",
              "      <td>94505</td>\n",
              "      <td>2016-04-04 23:42:13</td>\n",
              "    </tr>\n",
              "    <tr>\n",
              "      <td>9</td>\n",
              "      <td>2016-03-17 10:53:50</td>\n",
              "      <td>999</td>\n",
              "      <td>small</td>\n",
              "      <td>1998</td>\n",
              "      <td>manual</td>\n",
              "      <td>101</td>\n",
              "      <td>golf</td>\n",
              "      <td>150000</td>\n",
              "      <td>0</td>\n",
              "      <td>NaN</td>\n",
              "      <td>volkswagen</td>\n",
              "      <td>NaN</td>\n",
              "      <td>2016-03-17 00:00:00</td>\n",
              "      <td>0</td>\n",
              "      <td>27472</td>\n",
              "      <td>2016-03-31 17:17:06</td>\n",
              "    </tr>\n",
              "  </tbody>\n",
              "</table>\n",
              "</div>"
            ],
            "text/plain": [
              "           DateCrawled  Price  VehicleType  RegistrationYear Gearbox  Power  \\\n",
              "0  2016-03-24 11:52:17    480          NaN              1993  manual      0   \n",
              "1  2016-03-24 10:58:45  18300        coupe              2011  manual    190   \n",
              "2  2016-03-14 12:52:21   9800          suv              2004    auto    163   \n",
              "3  2016-03-17 16:54:04   1500        small              2001  manual     75   \n",
              "4  2016-03-31 17:25:20   3600        small              2008  manual     69   \n",
              "5  2016-04-04 17:36:23    650        sedan              1995  manual    102   \n",
              "6  2016-04-01 20:48:51   2200  convertible              2004  manual    109   \n",
              "7  2016-03-21 18:54:38      0        sedan              1980  manual     50   \n",
              "8  2016-04-04 23:42:13  14500          bus              2014  manual    125   \n",
              "9  2016-03-17 10:53:50    999        small              1998  manual    101   \n",
              "\n",
              "     Model  Kilometer  RegistrationMonth  FuelType       Brand NotRepaired  \\\n",
              "0     golf     150000                  0    petrol  volkswagen         NaN   \n",
              "1      NaN     125000                  5  gasoline        audi         yes   \n",
              "2    grand     125000                  8  gasoline        jeep         NaN   \n",
              "3     golf     150000                  6    petrol  volkswagen          no   \n",
              "4    fabia      90000                  7  gasoline       skoda          no   \n",
              "5      3er     150000                 10    petrol         bmw         yes   \n",
              "6  2_reihe     150000                  8    petrol     peugeot          no   \n",
              "7    other      40000                  7    petrol  volkswagen          no   \n",
              "8    c_max      30000                  8    petrol        ford         NaN   \n",
              "9     golf     150000                  0       NaN  volkswagen         NaN   \n",
              "\n",
              "           DateCreated  NumberOfPictures  PostalCode             LastSeen  \n",
              "0  2016-03-24 00:00:00                 0       70435  2016-04-07 03:16:57  \n",
              "1  2016-03-24 00:00:00                 0       66954  2016-04-07 01:46:50  \n",
              "2  2016-03-14 00:00:00                 0       90480  2016-04-05 12:47:46  \n",
              "3  2016-03-17 00:00:00                 0       91074  2016-03-17 17:40:17  \n",
              "4  2016-03-31 00:00:00                 0       60437  2016-04-06 10:17:21  \n",
              "5  2016-04-04 00:00:00                 0       33775  2016-04-06 19:17:07  \n",
              "6  2016-04-01 00:00:00                 0       67112  2016-04-05 18:18:39  \n",
              "7  2016-03-21 00:00:00                 0       19348  2016-03-25 16:47:58  \n",
              "8  2016-04-04 00:00:00                 0       94505  2016-04-04 23:42:13  \n",
              "9  2016-03-17 00:00:00                 0       27472  2016-03-31 17:17:06  "
            ]
          },
          "metadata": {
            "tags": []
          },
          "execution_count": 2
        }
      ]
    },
    {
      "cell_type": "code",
      "metadata": {
        "id": "oag1p3W2Je81",
        "colab_type": "code",
        "colab": {},
        "outputId": "4e7b1fda-a38a-4f9c-bacb-1da5df2d5904"
      },
      "source": [
        "print(df.shape)\n",
        "print(df.info())"
      ],
      "execution_count": null,
      "outputs": [
        {
          "output_type": "stream",
          "text": [
            "(354369, 16)\n",
            "<class 'pandas.core.frame.DataFrame'>\n",
            "RangeIndex: 354369 entries, 0 to 354368\n",
            "Data columns (total 16 columns):\n",
            "DateCrawled          354369 non-null object\n",
            "Price                354369 non-null int64\n",
            "VehicleType          316879 non-null object\n",
            "RegistrationYear     354369 non-null int64\n",
            "Gearbox              334536 non-null object\n",
            "Power                354369 non-null int64\n",
            "Model                334664 non-null object\n",
            "Kilometer            354369 non-null int64\n",
            "RegistrationMonth    354369 non-null int64\n",
            "FuelType             321474 non-null object\n",
            "Brand                354369 non-null object\n",
            "NotRepaired          283215 non-null object\n",
            "DateCreated          354369 non-null object\n",
            "NumberOfPictures     354369 non-null int64\n",
            "PostalCode           354369 non-null int64\n",
            "LastSeen             354369 non-null object\n",
            "dtypes: int64(7), object(9)\n",
            "memory usage: 43.3+ MB\n",
            "None\n"
          ],
          "name": "stdout"
        }
      ]
    },
    {
      "cell_type": "code",
      "metadata": {
        "id": "CxI8NAJ-Je9E",
        "colab_type": "code",
        "colab": {},
        "outputId": "079b4ae7-6075-462c-8aac-bb3048c48812"
      },
      "source": [
        "# Проверим датасет на дубликаты\n",
        "df[df.duplicated()]"
      ],
      "execution_count": null,
      "outputs": [
        {
          "output_type": "execute_result",
          "data": {
            "text/html": [
              "<div>\n",
              "<style scoped>\n",
              "    .dataframe tbody tr th:only-of-type {\n",
              "        vertical-align: middle;\n",
              "    }\n",
              "\n",
              "    .dataframe tbody tr th {\n",
              "        vertical-align: top;\n",
              "    }\n",
              "\n",
              "    .dataframe thead th {\n",
              "        text-align: right;\n",
              "    }\n",
              "</style>\n",
              "<table border=\"1\" class=\"dataframe\">\n",
              "  <thead>\n",
              "    <tr style=\"text-align: right;\">\n",
              "      <th></th>\n",
              "      <th>DateCrawled</th>\n",
              "      <th>Price</th>\n",
              "      <th>VehicleType</th>\n",
              "      <th>RegistrationYear</th>\n",
              "      <th>Gearbox</th>\n",
              "      <th>Power</th>\n",
              "      <th>Model</th>\n",
              "      <th>Kilometer</th>\n",
              "      <th>RegistrationMonth</th>\n",
              "      <th>FuelType</th>\n",
              "      <th>Brand</th>\n",
              "      <th>NotRepaired</th>\n",
              "      <th>DateCreated</th>\n",
              "      <th>NumberOfPictures</th>\n",
              "      <th>PostalCode</th>\n",
              "      <th>LastSeen</th>\n",
              "    </tr>\n",
              "  </thead>\n",
              "  <tbody>\n",
              "    <tr>\n",
              "      <td>171088</td>\n",
              "      <td>2016-03-08 18:42:48</td>\n",
              "      <td>1799</td>\n",
              "      <td>coupe</td>\n",
              "      <td>1999</td>\n",
              "      <td>auto</td>\n",
              "      <td>193</td>\n",
              "      <td>clk</td>\n",
              "      <td>20000</td>\n",
              "      <td>7</td>\n",
              "      <td>petrol</td>\n",
              "      <td>mercedes_benz</td>\n",
              "      <td>no</td>\n",
              "      <td>2016-03-08 00:00:00</td>\n",
              "      <td>0</td>\n",
              "      <td>89518</td>\n",
              "      <td>2016-03-09 09:46:57</td>\n",
              "    </tr>\n",
              "    <tr>\n",
              "      <td>231258</td>\n",
              "      <td>2016-03-28 00:56:10</td>\n",
              "      <td>1000</td>\n",
              "      <td>small</td>\n",
              "      <td>2002</td>\n",
              "      <td>manual</td>\n",
              "      <td>83</td>\n",
              "      <td>other</td>\n",
              "      <td>150000</td>\n",
              "      <td>1</td>\n",
              "      <td>petrol</td>\n",
              "      <td>suzuki</td>\n",
              "      <td>no</td>\n",
              "      <td>2016-03-28 00:00:00</td>\n",
              "      <td>0</td>\n",
              "      <td>66589</td>\n",
              "      <td>2016-03-28 08:46:21</td>\n",
              "    </tr>\n",
              "    <tr>\n",
              "      <td>258109</td>\n",
              "      <td>2016-04-03 09:01:15</td>\n",
              "      <td>4699</td>\n",
              "      <td>coupe</td>\n",
              "      <td>2003</td>\n",
              "      <td>auto</td>\n",
              "      <td>218</td>\n",
              "      <td>clk</td>\n",
              "      <td>125000</td>\n",
              "      <td>6</td>\n",
              "      <td>petrol</td>\n",
              "      <td>mercedes_benz</td>\n",
              "      <td>yes</td>\n",
              "      <td>2016-04-03 00:00:00</td>\n",
              "      <td>0</td>\n",
              "      <td>75196</td>\n",
              "      <td>2016-04-07 09:44:54</td>\n",
              "    </tr>\n",
              "    <tr>\n",
              "      <td>325651</td>\n",
              "      <td>2016-03-18 18:46:15</td>\n",
              "      <td>1999</td>\n",
              "      <td>wagon</td>\n",
              "      <td>2001</td>\n",
              "      <td>manual</td>\n",
              "      <td>131</td>\n",
              "      <td>passat</td>\n",
              "      <td>150000</td>\n",
              "      <td>7</td>\n",
              "      <td>gasoline</td>\n",
              "      <td>volkswagen</td>\n",
              "      <td>no</td>\n",
              "      <td>2016-03-18 00:00:00</td>\n",
              "      <td>0</td>\n",
              "      <td>36391</td>\n",
              "      <td>2016-03-18 18:46:15</td>\n",
              "    </tr>\n",
              "  </tbody>\n",
              "</table>\n",
              "</div>"
            ],
            "text/plain": [
              "                DateCrawled  Price VehicleType  RegistrationYear Gearbox  \\\n",
              "171088  2016-03-08 18:42:48   1799       coupe              1999    auto   \n",
              "231258  2016-03-28 00:56:10   1000       small              2002  manual   \n",
              "258109  2016-04-03 09:01:15   4699       coupe              2003    auto   \n",
              "325651  2016-03-18 18:46:15   1999       wagon              2001  manual   \n",
              "\n",
              "        Power   Model  Kilometer  RegistrationMonth  FuelType          Brand  \\\n",
              "171088    193     clk      20000                  7    petrol  mercedes_benz   \n",
              "231258     83   other     150000                  1    petrol         suzuki   \n",
              "258109    218     clk     125000                  6    petrol  mercedes_benz   \n",
              "325651    131  passat     150000                  7  gasoline     volkswagen   \n",
              "\n",
              "       NotRepaired          DateCreated  NumberOfPictures  PostalCode  \\\n",
              "171088          no  2016-03-08 00:00:00                 0       89518   \n",
              "231258          no  2016-03-28 00:00:00                 0       66589   \n",
              "258109         yes  2016-04-03 00:00:00                 0       75196   \n",
              "325651          no  2016-03-18 00:00:00                 0       36391   \n",
              "\n",
              "                   LastSeen  \n",
              "171088  2016-03-09 09:46:57  \n",
              "231258  2016-03-28 08:46:21  \n",
              "258109  2016-04-07 09:44:54  \n",
              "325651  2016-03-18 18:46:15  "
            ]
          },
          "metadata": {
            "tags": []
          },
          "execution_count": 4
        }
      ]
    },
    {
      "cell_type": "code",
      "metadata": {
        "id": "pSJGOIs-Je9P",
        "colab_type": "code",
        "colab": {}
      },
      "source": [
        "# Удалим дубликаты\n",
        "df = df.drop_duplicates().reset_index(drop = True)"
      ],
      "execution_count": null,
      "outputs": []
    },
    {
      "cell_type": "markdown",
      "metadata": {
        "id": "R8jo4mhUJe9i",
        "colab_type": "text"
      },
      "source": [
        "Проверим датасет на пропуски."
      ]
    },
    {
      "cell_type": "code",
      "metadata": {
        "id": "WmyZNbquJe9l",
        "colab_type": "code",
        "colab": {},
        "outputId": "405b55f7-a9c4-4e48-a09c-d30fe2bd31b4"
      },
      "source": [
        "df.isna().sum()"
      ],
      "execution_count": null,
      "outputs": [
        {
          "output_type": "execute_result",
          "data": {
            "text/plain": [
              "DateCrawled              0\n",
              "Price                    0\n",
              "VehicleType          37490\n",
              "RegistrationYear         0\n",
              "Gearbox              19833\n",
              "Power                    0\n",
              "Model                19705\n",
              "Kilometer                0\n",
              "RegistrationMonth        0\n",
              "FuelType             32895\n",
              "Brand                    0\n",
              "NotRepaired          71154\n",
              "DateCreated              0\n",
              "NumberOfPictures         0\n",
              "PostalCode               0\n",
              "LastSeen                 0\n",
              "dtype: int64"
            ]
          },
          "metadata": {
            "tags": []
          },
          "execution_count": 6
        }
      ]
    },
    {
      "cell_type": "markdown",
      "metadata": {
        "id": "X44A7d2BJe93",
        "colab_type": "text"
      },
      "source": [
        "Заполним пропущенные значения"
      ]
    },
    {
      "cell_type": "code",
      "metadata": {
        "id": "1xTPhHpDJe94",
        "colab_type": "code",
        "colab": {}
      },
      "source": [
        "df['NotRepaired'] = df['NotRepaired'].fillna('no')"
      ],
      "execution_count": null,
      "outputs": []
    },
    {
      "cell_type": "code",
      "metadata": {
        "scrolled": true,
        "id": "8aSsHwo1Je-M",
        "colab_type": "code",
        "colab": {},
        "outputId": "454d0107-5b7c-42ed-cacb-d3adfdb59a7f"
      },
      "source": [
        "print(df.groupby('FuelType')['FuelType'].count())\n",
        "print()\n",
        "print('Количство пропущеных значений в столбце FuelType =', df.query('FuelType.isnull() == True').shape[0])\n",
        "\n",
        "# Так как пропущенных значений примерно 10% от всего датасета, удалять их не стоит. Заполним пропуски значением \"gasoline\" \n",
        "# так как \"gasoline\" и \"petrol\" самые распространенные значения, но обозначпают они одно и тоже.\n",
        "\n",
        "df['FuelType'] = df['FuelType'].fillna('gasoline')\n",
        "\n",
        "print(df.groupby('FuelType')['FuelType'].count())"
      ],
      "execution_count": null,
      "outputs": [
        {
          "output_type": "stream",
          "text": [
            "FuelType\n",
            "cng            565\n",
            "electric        90\n",
            "gasoline     98719\n",
            "hybrid         233\n",
            "lpg           5310\n",
            "other          204\n",
            "petrol      216349\n",
            "Name: FuelType, dtype: int64\n",
            "\n",
            "Количство пропущеных значений в столбце FuelType = 32895\n",
            "FuelType\n",
            "cng            565\n",
            "electric        90\n",
            "gasoline    131614\n",
            "hybrid         233\n",
            "lpg           5310\n",
            "other          204\n",
            "petrol      216349\n",
            "Name: FuelType, dtype: int64\n"
          ],
          "name": "stdout"
        }
      ]
    },
    {
      "cell_type": "markdown",
      "metadata": {
        "id": "OV_wrdf-Je-b",
        "colab_type": "text"
      },
      "source": [
        "Заполним пропуски в столбце NotRepaired. Скорее всего, пропущенные значений означают, что автомобиль не был в ремонте. Заполним из значением \"no\""
      ]
    },
    {
      "cell_type": "code",
      "metadata": {
        "id": "pojwgX9SJe-g",
        "colab_type": "code",
        "colab": {}
      },
      "source": [
        "df['NotRepaired'] = df['NotRepaired'].fillna('no')"
      ],
      "execution_count": null,
      "outputs": []
    },
    {
      "cell_type": "code",
      "metadata": {
        "id": "_bnFdtzHJe-u",
        "colab_type": "code",
        "colab": {},
        "outputId": "ac94a43d-c45a-4f68-a76e-db331aba8460"
      },
      "source": [
        "print(df.groupby('Gearbox')['Gearbox'].count())\n",
        "\n",
        "# Так как мы не можем востановить тип коробки передач в столбце \"Gearbox\", заполним пропуски значением \"other\"\n",
        "\n",
        "df['Gearbox'] = df['Gearbox'].fillna('other')\n",
        "\n",
        "print()\n",
        "print(df.groupby('Gearbox')['Gearbox'].count())"
      ],
      "execution_count": null,
      "outputs": [
        {
          "output_type": "stream",
          "text": [
            "Gearbox\n",
            "auto       66283\n",
            "manual    268249\n",
            "Name: Gearbox, dtype: int64\n",
            "\n",
            "Gearbox\n",
            "auto       66283\n",
            "manual    268249\n",
            "other      19833\n",
            "Name: Gearbox, dtype: int64\n"
          ],
          "name": "stdout"
        }
      ]
    },
    {
      "cell_type": "code",
      "metadata": {
        "id": "U1sDOp6KJe-9",
        "colab_type": "code",
        "colab": {}
      },
      "source": [
        "# Таким же образом заполним пропуске в столбеце \"Model\"\n",
        "df['Model'] = df['Model'].fillna('other')"
      ],
      "execution_count": null,
      "outputs": []
    },
    {
      "cell_type": "code",
      "metadata": {
        "id": "tyzgUfeDJfAM",
        "colab_type": "code",
        "colab": {},
        "outputId": "2b77c36e-d6f6-4266-bb12-305c799ef917"
      },
      "source": [
        "#заполним пропуски в столбце \"VehicleType\" максимально частым значениям с группировкой по марке и модели\n",
        "df['VehicleType'] = df['VehicleType'].transform(lambda x: x.fillna(x.mode()[0]))\n",
        "\n",
        "df.isna().sum()"
      ],
      "execution_count": null,
      "outputs": [
        {
          "output_type": "execute_result",
          "data": {
            "text/plain": [
              "DateCrawled          0\n",
              "Price                0\n",
              "VehicleType          0\n",
              "RegistrationYear     0\n",
              "Gearbox              0\n",
              "Power                0\n",
              "Model                0\n",
              "Kilometer            0\n",
              "RegistrationMonth    0\n",
              "FuelType             0\n",
              "Brand                0\n",
              "NotRepaired          0\n",
              "DateCreated          0\n",
              "NumberOfPictures     0\n",
              "PostalCode           0\n",
              "LastSeen             0\n",
              "dtype: int64"
            ]
          },
          "metadata": {
            "tags": []
          },
          "execution_count": 12
        }
      ]
    },
    {
      "cell_type": "markdown",
      "metadata": {
        "id": "OpLE5vkLJfBG",
        "colab_type": "text"
      },
      "source": [
        "Столбцы \"DateCrawled\", \"DateCreated\", \"LastSeen\", и \"PostalCode\" не имеюит особого влияния на датасет. Например корреляция между ценой \"Price\" и индексом \"PostalCode\" совсем незначительная.\n",
        "Удалим эти столбцы из нашего датасета."
      ]
    },
    {
      "cell_type": "code",
      "metadata": {
        "id": "WTPF7r4KJfBU",
        "colab_type": "code",
        "colab": {},
        "outputId": "d4c9589e-3c94-475c-ab21-1671f9862d5a"
      },
      "source": [
        "df['PostalCode'].corr(df['Price'])"
      ],
      "execution_count": null,
      "outputs": [
        {
          "output_type": "execute_result",
          "data": {
            "text/plain": [
              "0.07605843354490023"
            ]
          },
          "metadata": {
            "tags": []
          },
          "execution_count": 13
        }
      ]
    },
    {
      "cell_type": "code",
      "metadata": {
        "id": "VKQ6rEMAJfBw",
        "colab_type": "code",
        "colab": {},
        "outputId": "4e2b33e3-ba76-40b1-d364-97c940118f78"
      },
      "source": [
        "df = df.drop(['DateCrawled', 'DateCreated', 'LastSeen', 'PostalCode'], axis='columns')\n",
        "print(df.shape)\n",
        "print(df.info())"
      ],
      "execution_count": null,
      "outputs": [
        {
          "output_type": "stream",
          "text": [
            "(354365, 12)\n",
            "<class 'pandas.core.frame.DataFrame'>\n",
            "RangeIndex: 354365 entries, 0 to 354364\n",
            "Data columns (total 12 columns):\n",
            "Price                354365 non-null int64\n",
            "VehicleType          354365 non-null object\n",
            "RegistrationYear     354365 non-null int64\n",
            "Gearbox              354365 non-null object\n",
            "Power                354365 non-null int64\n",
            "Model                354365 non-null object\n",
            "Kilometer            354365 non-null int64\n",
            "RegistrationMonth    354365 non-null int64\n",
            "FuelType             354365 non-null object\n",
            "Brand                354365 non-null object\n",
            "NotRepaired          354365 non-null object\n",
            "NumberOfPictures     354365 non-null int64\n",
            "dtypes: int64(6), object(6)\n",
            "memory usage: 32.4+ MB\n",
            "None\n"
          ],
          "name": "stdout"
        }
      ]
    },
    {
      "cell_type": "code",
      "metadata": {
        "id": "zERuDmoCJfCj",
        "colab_type": "code",
        "colab": {},
        "outputId": "ebc41f41-e917-4c01-ecd6-44608ace6a1e"
      },
      "source": [
        "print(df.shape)\n",
        "print(df.info())"
      ],
      "execution_count": null,
      "outputs": [
        {
          "output_type": "stream",
          "text": [
            "(354365, 12)\n",
            "<class 'pandas.core.frame.DataFrame'>\n",
            "RangeIndex: 354365 entries, 0 to 354364\n",
            "Data columns (total 12 columns):\n",
            "Price                354365 non-null int64\n",
            "VehicleType          354365 non-null object\n",
            "RegistrationYear     354365 non-null int64\n",
            "Gearbox              354365 non-null object\n",
            "Power                354365 non-null int64\n",
            "Model                354365 non-null object\n",
            "Kilometer            354365 non-null int64\n",
            "RegistrationMonth    354365 non-null int64\n",
            "FuelType             354365 non-null object\n",
            "Brand                354365 non-null object\n",
            "NotRepaired          354365 non-null object\n",
            "NumberOfPictures     354365 non-null int64\n",
            "dtypes: int64(6), object(6)\n",
            "memory usage: 32.4+ MB\n",
            "None\n"
          ],
          "name": "stdout"
        }
      ]
    },
    {
      "cell_type": "markdown",
      "metadata": {
        "id": "TYYpfK1sJfDL",
        "colab_type": "text"
      },
      "source": [
        "**Рассмотрим на выбросы значений и характеристики признаков**"
      ]
    },
    {
      "cell_type": "code",
      "metadata": {
        "scrolled": false,
        "id": "Q04LocadJfDV",
        "colab_type": "code",
        "colab": {},
        "outputId": "440f0ad8-8aef-4269-a51c-735aa353e66b"
      },
      "source": [
        "sns.set()\n",
        "plt.subplots(figsize=(8,2), dpi=70)\n",
        "sns.boxplot(df['Price'], color=\"yellow\")\n",
        "plt.show()\n",
        "\n",
        "plt.subplots(figsize=(8,2), dpi=70)\n",
        "sns.boxplot(df['RegistrationYear'], color=\"red\")\n",
        "plt.xlim(1900, 2025)\n",
        "plt.show()\n",
        "\n",
        "plt.subplots(figsize=(8,2), dpi=70)\n",
        "sns.boxplot(df['Power'], color=\"blue\")\n",
        "plt.xlim(0, 400)\n",
        "plt.show()\n",
        "\n",
        "plt.subplots(figsize=(8,2), dpi=70)\n",
        "sns.boxplot(df['Kilometer'], color=\"green\")\n",
        "plt.xlim(0, 200000)\n",
        "plt.show()\n",
        "\n",
        "df[['Price', 'RegistrationYear', 'Power', 'Kilometer']].describe()"
      ],
      "execution_count": null,
      "outputs": [
        {
          "output_type": "display_data",
          "data": {
            "image/png": "[encoded data removed]",
            "text/plain": [
              "<Figure size 560x140 with 1 Axes>"
            ]
          },
          "metadata": {
            "tags": []
          }
        },
        {
          "output_type": "display_data",
          "data": {
            "image/png": "[encoded data removed]",
            "text/plain": [
              "<Figure size 560x140 with 1 Axes>"
            ]
          },
          "metadata": {
            "tags": []
          }
        },
        {
          "output_type": "display_data",
          "data": {
            "image/png": "[encoded data removed]",
            "text/plain": [
              "<Figure size 560x140 with 1 Axes>"
            ]
          },
          "metadata": {
            "tags": []
          }
        },
        {
          "output_type": "display_data",
          "data": {
            "image/png": "[encoded data removed]",
            "text/plain": [
              "<Figure size 560x140 with 1 Axes>"
            ]
          },
          "metadata": {
            "tags": []
          }
        },
        {
          "output_type": "execute_result",
          "data": {
            "text/html": [
              "<div>\n",
              "<style scoped>\n",
              "    .dataframe tbody tr th:only-of-type {\n",
              "        vertical-align: middle;\n",
              "    }\n",
              "\n",
              "    .dataframe tbody tr th {\n",
              "        vertical-align: top;\n",
              "    }\n",
              "\n",
              "    .dataframe thead th {\n",
              "        text-align: right;\n",
              "    }\n",
              "</style>\n",
              "<table border=\"1\" class=\"dataframe\">\n",
              "  <thead>\n",
              "    <tr style=\"text-align: right;\">\n",
              "      <th></th>\n",
              "      <th>Price</th>\n",
              "      <th>RegistrationYear</th>\n",
              "      <th>Power</th>\n",
              "      <th>Kilometer</th>\n",
              "    </tr>\n",
              "  </thead>\n",
              "  <tbody>\n",
              "    <tr>\n",
              "      <td>count</td>\n",
              "      <td>354365.000000</td>\n",
              "      <td>354365.000000</td>\n",
              "      <td>354365.000000</td>\n",
              "      <td>354365.000000</td>\n",
              "    </tr>\n",
              "    <tr>\n",
              "      <td>mean</td>\n",
              "      <td>4416.679830</td>\n",
              "      <td>2004.234481</td>\n",
              "      <td>110.093816</td>\n",
              "      <td>128211.363989</td>\n",
              "    </tr>\n",
              "    <tr>\n",
              "      <td>std</td>\n",
              "      <td>4514.176349</td>\n",
              "      <td>90.228466</td>\n",
              "      <td>189.851330</td>\n",
              "      <td>37905.083858</td>\n",
              "    </tr>\n",
              "    <tr>\n",
              "      <td>min</td>\n",
              "      <td>0.000000</td>\n",
              "      <td>1000.000000</td>\n",
              "      <td>0.000000</td>\n",
              "      <td>5000.000000</td>\n",
              "    </tr>\n",
              "    <tr>\n",
              "      <td>25%</td>\n",
              "      <td>1050.000000</td>\n",
              "      <td>1999.000000</td>\n",
              "      <td>69.000000</td>\n",
              "      <td>125000.000000</td>\n",
              "    </tr>\n",
              "    <tr>\n",
              "      <td>50%</td>\n",
              "      <td>2700.000000</td>\n",
              "      <td>2003.000000</td>\n",
              "      <td>105.000000</td>\n",
              "      <td>150000.000000</td>\n",
              "    </tr>\n",
              "    <tr>\n",
              "      <td>75%</td>\n",
              "      <td>6400.000000</td>\n",
              "      <td>2008.000000</td>\n",
              "      <td>143.000000</td>\n",
              "      <td>150000.000000</td>\n",
              "    </tr>\n",
              "    <tr>\n",
              "      <td>max</td>\n",
              "      <td>20000.000000</td>\n",
              "      <td>9999.000000</td>\n",
              "      <td>20000.000000</td>\n",
              "      <td>150000.000000</td>\n",
              "    </tr>\n",
              "  </tbody>\n",
              "</table>\n",
              "</div>"
            ],
            "text/plain": [
              "               Price  RegistrationYear          Power      Kilometer\n",
              "count  354365.000000     354365.000000  354365.000000  354365.000000\n",
              "mean     4416.679830       2004.234481     110.093816  128211.363989\n",
              "std      4514.176349         90.228466     189.851330   37905.083858\n",
              "min         0.000000       1000.000000       0.000000    5000.000000\n",
              "25%      1050.000000       1999.000000      69.000000  125000.000000\n",
              "50%      2700.000000       2003.000000     105.000000  150000.000000\n",
              "75%      6400.000000       2008.000000     143.000000  150000.000000\n",
              "max     20000.000000       9999.000000   20000.000000  150000.000000"
            ]
          },
          "metadata": {
            "tags": []
          },
          "execution_count": 16
        }
      ]
    },
    {
      "cell_type": "markdown",
      "metadata": {
        "id": "E-ycBpxSJfDp",
        "colab_type": "text"
      },
      "source": [
        "Как видно из графиков, призаки имеют большие выбросы значений. Удалим выбросы из датасета."
      ]
    },
    {
      "cell_type": "code",
      "metadata": {
        "id": "nz7xLqJJJfDr",
        "colab_type": "code",
        "colab": {}
      },
      "source": [
        "df_clear = (df.query('(Price < 15000) & (Price > 100) & (RegistrationYear > 1980) & (RegistrationYear < 2020) & (Power < 400) & (Power > 50)')\n",
        "              .reset_index(drop= True)\n",
        "           )\n"
      ],
      "execution_count": null,
      "outputs": []
    },
    {
      "cell_type": "markdown",
      "metadata": {
        "id": "wPL9QMDtJfD4",
        "colab_type": "text"
      },
      "source": [
        "# 2. Обучение моделей"
      ]
    },
    {
      "cell_type": "markdown",
      "metadata": {
        "id": "UEBpSkJEJfD6",
        "colab_type": "text"
      },
      "source": [
        "Разобьем датасет на тренировочную, валидационную и тестовую выборки."
      ]
    },
    {
      "cell_type": "code",
      "metadata": {
        "id": "XkJEnUlbJfD7",
        "colab_type": "code",
        "colab": {}
      },
      "source": [
        "# Создадим список категориальных признаков\n",
        "cat_columns = ['VehicleType', 'Gearbox', 'Model', 'FuelType', 'Brand', 'NotRepaired']\n",
        "\n",
        "df_clear[cat_columns] = df_clear[cat_columns].astype('category')\n",
        "\n",
        "features = df_clear.drop(['Price'], axis='columns')\n",
        "target = df_clear['Price']\n",
        "    \n",
        "features_train, features_valid, target_train, target_valid = (train_test_split(features, \n",
        "                                                                              target, \n",
        "                                                                              test_size=0.3, \n",
        "                                                                              random_state=42)\n",
        "                                                                            )\n",
        "    \n",
        "features_valid, features_test, target_valid, target_test = (train_test_split(features_valid, \n",
        "                                                                              target_valid, \n",
        "                                                                              test_size=0.5, \n",
        "                                                                              random_state=42)\n",
        "                                                                           )"
      ],
      "execution_count": null,
      "outputs": []
    },
    {
      "cell_type": "markdown",
      "metadata": {
        "id": "PtxSf2WSJfEI",
        "colab_type": "text"
      },
      "source": [
        "Обучим модель градиентного бустинга CatBoost."
      ]
    },
    {
      "cell_type": "code",
      "metadata": {
        "id": "9DYbam7UJfEJ",
        "colab_type": "code",
        "colab": {},
        "outputId": "b7c3331d-b6e6-4a33-b22c-d99a7ce6e63d"
      },
      "source": [
        "%%time\n",
        "\n",
        "catboost_model = CatBoostRegressor(eval_metric=\"RMSE\", \n",
        "                                   iterations=100, \n",
        "                                   max_depth=12, \n",
        "                                   learning_rate=0.3, \n",
        "                                   leaf_estimation_method='Gradient', \n",
        "                                   random_state=42)\n",
        "\n",
        "catboost_model.fit(features_train, target_train, cat_features=cat_columns, verbose=10)\n",
        "prediction = catboost_model.predict(features_valid)\n",
        "rmse = mean_squared_error(target_valid, prediction)**0.5\n",
        "rmse "
      ],
      "execution_count": null,
      "outputs": [
        {
          "output_type": "stream",
          "text": [
            "0:\tlearn: 2938.3795421\ttotal: 753ms\tremaining: 1m 14s\n",
            "10:\tlearn: 1497.8675550\ttotal: 6.85s\tremaining: 55.4s\n",
            "20:\tlearn: 1413.8277802\ttotal: 12.7s\tremaining: 48s\n",
            "30:\tlearn: 1365.6027648\ttotal: 18.7s\tremaining: 41.7s\n",
            "40:\tlearn: 1331.5724347\ttotal: 24.6s\tremaining: 35.5s\n",
            "50:\tlearn: 1302.3771294\ttotal: 30.5s\tremaining: 29.3s\n",
            "60:\tlearn: 1279.7474180\ttotal: 36.4s\tremaining: 23.3s\n",
            "70:\tlearn: 1261.0691957\ttotal: 42.2s\tremaining: 17.2s\n",
            "80:\tlearn: 1245.1007435\ttotal: 48.1s\tremaining: 11.3s\n",
            "90:\tlearn: 1232.6406246\ttotal: 54.1s\tremaining: 5.35s\n",
            "99:\tlearn: 1218.9413142\ttotal: 59.3s\tremaining: 0us\n",
            "CPU times: user 52 s, sys: 7.99 s, total: 1min\n",
            "Wall time: 1min 3s\n"
          ],
          "name": "stdout"
        },
        {
          "output_type": "execute_result",
          "data": {
            "text/plain": [
              "1340.7276318568806"
            ]
          },
          "metadata": {
            "tags": []
          },
          "execution_count": 19
        }
      ]
    },
    {
      "cell_type": "markdown",
      "metadata": {
        "id": "CFU3WgxJJfEU",
        "colab_type": "text"
      },
      "source": [
        "Теперь обучим модель LGBM Regressor."
      ]
    },
    {
      "cell_type": "code",
      "metadata": {
        "id": "vG1nlpf4JfEX",
        "colab_type": "code",
        "colab": {},
        "outputId": "9de9d0b9-998b-49de-e5df-b44a49761899"
      },
      "source": [
        "%%time\n",
        "\n",
        "lgbm_model = LGBMRegressor(num_leaves=40, learning_rate=0.35, n_estimators=100)\n",
        "lgbm_model.fit(features_train, target_train, categorical_feature=cat_columns)\n",
        "prediction = lgbm_model.predict(features_valid)\n",
        "rmse = mean_squared_error(target_valid, prediction)**0.5\n",
        "rmse "
      ],
      "execution_count": null,
      "outputs": [
        {
          "output_type": "stream",
          "text": [
            "CPU times: user 6.2 s, sys: 47.6 ms, total: 6.24 s\n",
            "Wall time: 6.26 s\n"
          ],
          "name": "stdout"
        },
        {
          "output_type": "execute_result",
          "data": {
            "text/plain": [
              "1340.9208807012585"
            ]
          },
          "metadata": {
            "tags": []
          },
          "execution_count": 20
        }
      ]
    },
    {
      "cell_type": "markdown",
      "metadata": {
        "id": "DGOSQYqOJfEl",
        "colab_type": "text"
      },
      "source": [
        "# 3. Анализ моделей"
      ]
    },
    {
      "cell_type": "markdown",
      "metadata": {
        "id": "12JqNyAyJfEn",
        "colab_type": "text"
      },
      "source": [
        "Протестируем модели на тестовой выборке."
      ]
    },
    {
      "cell_type": "code",
      "metadata": {
        "id": "YjVTfP7YJfEo",
        "colab_type": "code",
        "colab": {},
        "outputId": "fc18b82e-cd30-4162-d948-a60621a94768"
      },
      "source": [
        "%%time\n",
        "prediction = catboost_model.predict(features_test)\n",
        "rmse = mean_squared_error(target_test, prediction)**0.5\n",
        "rmse "
      ],
      "execution_count": null,
      "outputs": [
        {
          "output_type": "stream",
          "text": [
            "CPU times: user 110 ms, sys: 8.83 ms, total: 118 ms\n",
            "Wall time: 52.9 ms\n"
          ],
          "name": "stdout"
        },
        {
          "output_type": "execute_result",
          "data": {
            "text/plain": [
              "1347.9447811951284"
            ]
          },
          "metadata": {
            "tags": []
          },
          "execution_count": 21
        }
      ]
    },
    {
      "cell_type": "code",
      "metadata": {
        "id": "8mEfKIF3JfE6",
        "colab_type": "code",
        "colab": {},
        "outputId": "8fd89932-45ed-4ebd-dfc1-a7ad8293decb"
      },
      "source": [
        "%%time\n",
        "prediction = lgbm_model.predict(features_test)\n",
        "rmse = mean_squared_error(target_test, prediction)**0.5\n",
        "rmse "
      ],
      "execution_count": null,
      "outputs": [
        {
          "output_type": "stream",
          "text": [
            "CPU times: user 407 ms, sys: 0 ns, total: 407 ms\n",
            "Wall time: 334 ms\n"
          ],
          "name": "stdout"
        },
        {
          "output_type": "execute_result",
          "data": {
            "text/plain": [
              "1344.384273386913"
            ]
          },
          "metadata": {
            "tags": []
          },
          "execution_count": 22
        }
      ]
    },
    {
      "cell_type": "markdown",
      "metadata": {
        "id": "DqrVJgnPJfFD",
        "colab_type": "text"
      },
      "source": [
        "### Вывод.\n",
        "\n",
        "Как мы видим, обе модели показали примерно одинаковые результаты как по скорости, так и по предсказанию. Но есть небольшие различия: CatBoost работает немного быстрее, но у LGBM Regressor немного выше точность предсказания."
      ]
    }
  ]
}